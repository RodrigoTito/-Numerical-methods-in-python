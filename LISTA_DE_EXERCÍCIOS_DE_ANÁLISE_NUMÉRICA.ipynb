{
  "nbformat": 4,
  "nbformat_minor": 0,
  "metadata": {
    "colab": {
      "name": "LISTA DE EXERCÍCIOS DE ANÁLISE NUMÉRICA.ipynb",
      "provenance": [],
      "collapsed_sections": [],
      "authorship_tag": "ABX9TyMCox607GJiIhdzEur0ne+D"
    },
    "kernelspec": {
      "name": "python3",
      "display_name": "Python 3"
    }
  },
  "cells": [
    {
      "cell_type": "markdown",
      "metadata": {
        "id": "AN-Z3BbGl53I",
        "colab_type": "text"
      },
      "source": [
        "<center>\n",
        "\n",
        " UNIVERSIDADE FEDERAL DO RECÔNCAVO DA BAHIA \n",
        "\n",
        " BACHARELADO EM MATEMÁTICA\n",
        "\n",
        " ANÁLISE NUMÉRICA \n",
        "\n",
        " Rodrigo da Silva Tito\n"
      ]
    },
    {
      "cell_type": "markdown",
      "metadata": {
        "id": "MJ7vgnHeirv6",
        "colab_type": "text"
      },
      "source": [
        "# Lista de Exercícios "
      ]
    },
    {
      "cell_type": "markdown",
      "metadata": {
        "id": "-9A8Hr27cOUf",
        "colab_type": "text"
      },
      "source": [
        "**Exercício 1.** `(Livro de Cunha [1] pg: 196, Exer. 1.c.)`  Use o método de diferenças finitas para encontrar aproximações para o seguinte problema com dados de contorno. O passo $h$ é dado. Também é fornecido a expressão da solução analítica, que poderá ser usada para conferir os resultados obtidos. \n",
        "\n",
        "**1.c)** Seja a equação \n",
        "\n",
        "> $y''+\\left(x+1\\right)y'-2y=\\left(1-x^{2}\\right)\\text{e}^{-x}\$ \[\tag{1}\] \n",
        "\n",
        "$x\\in\\left(0,1\\right)$ com condições de contorno $y^{'}\\left(0\\right)=2$ e $y\\left(1\\right)=0$. Passo $h=0.1$. \n",
        "Solução analítica $y(x)=(x-1)e^{-x}$. \n"
      ]
    },
    {
      "cell_type": "markdown",
      "metadata": {
        "id": "BD4uZamLqZ0N",
        "colab_type": "text"
      },
      "source": [
        "\n",
        "**Solução**.  Queremos a solução da equação diferencial do tipo  \n",
        " \n",
        " > $$y''+p(x)y'+q(x)y=r(x), \\quad 0<x<1 $$\n",
        "\n",
        "onde $p\\left(x\\right)=x+1,$  $q\\left(x\\right)=-2$ e $r\\left(x\\right)=\\left(1-x^{2}\\right)\\text{e}^{-x}$ com o método de diferenças finitas.  Para tanto, de início,  discretizaremos o intervalo $\\left[0,1\\right]$ com cada passo $h=\\frac{1}{n}\\Rightarrow n=10$ (pois h=0.1). Usaremos agora as fórmulas centradas de diferenças finitas de primeira e segunda ordem para cada ponto $x_{i}, i=1,2,\\ldots n-1$, i.e., \n",
        "> $$y'(x_{i})\\cong\\frac{y_{i+1}-y_{i-1}}{2h}\\qquad y''(x_{i})\\cong\\frac{y_{i+1}-2y_{i}+y_{i-1}}{h^{2}}.$$\n",
        "\n",
        "Agora, substituindo-os em (1), obtemos a discretização da equação diferencial: \n",
        "\n",
        "> $$\\frac{y_{i+1}-2y_{i}+y_{i-1}}{h^{2}}+\\left(x+1\\right)\\frac{y_{i+1}-y_{i-1}}{2h}-2y_{i}=\\left(1-x_{i}^{2}\\right)\\text{e}^{-x_{i}},\\quad  i=1:n-1,$$\n",
        "\n",
        "ou seja:\n",
        " \n",
        " > $$\\left(2-h\\left(x_{i}+1\\right)\\right)y_{i-1}+\\left(-4-4h^{2}\\right)y_{i}+\\left(2+h\\left(x_{i}+1\\right)\\right)y_{i+1}=2h^{2}\\left(1-x_{i}^{2}\\right)\\text{e}^{-x_{i}},i=1:n-1.$$ \n",
        "\n",
        "ou ainda:\n",
        "\n",
        "> $$\\left(2-hp\\left(x_{i}\\right)\\right)y_{i-1}+\\left(-4+2q\\left(x_{i}\\right)h^{2}\\right)y_{i}+\\left(2+hp\\left(x_{i}\\right)\\right)y_{i+1}=2h^{2}\\left(1-x_{i}^{2}\\right)\\text{e}^{-x_{i}}, i=1:n-1.$$. \n",
        "\n",
        "**I)** Para utilizar a condição de contorno $y'\\left(0\\right)=2$ na discretização da equação, consideraremos a fórmula avançada, i.e., \n",
        "\n",
        "> $$y'(x_{i})\\cong\\frac{y_{i+1}-y_{i}}{h}.$$\n",
        "\n",
        "Dessa forma temos que \n",
        "\n",
        "> $$2=y'(0)\\cong\\frac{y_{1}-y_{0}}{h}\\Rightarrow y_{0}=y_{1}-2h,$$ \n",
        "\n",
        "portanto a condição de contorno fica da seguinte forma \n",
        "$$\\left\\{ \\begin{array}{c}\n",
        "y\\left(0\\right)=y\\left(x_{1}\\right)-2h\\\\\n",
        "y\\left(1\\right)=0.\n",
        "\\end{array}\\right.=\\left\\{ \\begin{array}{c}\n",
        "y_{0}=y_{1}-2h\\\\\n",
        "y_{n}=0.\\end{array}\\right.$$\n",
        "\n",
        "Note que temos um sistema linear:\n",
        "$$\\left\\{ \\begin{array}{l}\n",
        "\\left(2-hp\\left(x_{1}\\right)\\right)y_{0}+\\left(-4+2q\\left(x_{1}\\right)h^{2}\\right)y_{1}+\\left(2+hp\\left(x_{1}\\right)\\right)y_{2}=2h^{2}\\left(1-x_{1}^{2}\\right)\\text{e}^{-x_{1}}\\\\\n",
        "\\left(2-hp\\left(x_{2}\\right)\\right)y_{1}+\\left(-4+2q\\left(x_{2}\\right)h^{2}\\right)y_{2}+\\left(2+hp\\left(x_{2}\\right)\\right)y_{3}=2h^{2}\\left(1-x_{2}^{2}\\right)\\text{e}^{-x_{2}}\\\\\n",
        "\\left(2-hp\\left(x_{3}\\right)\\right)y_{2}+\\left(-4+2q\\left(x_{3}\\right)h^{2}\\right)y_{3}+\\left(2+hp\\left(x_{3}+1\\right)\\right)y_{4}=2h^{2}\\left(1-x_{3}^{2}\\right)\\text{e}^{-x_{3}}\\\\\n",
        "\\vdots\\\\\n",
        "\\left(2-hp\\left(x_{n-2}\\right)\\right)y_{n-3}+\\left(-4+2q\\left(x_{n-2}\\right)h^{2}\\right)y_{n-2}+\\left(2+hp\\left(x_{n-2}\\right)\\right)y_{n-1}=2h^{2}\\left(1-x_{n-2}^{2}\\right)\\text{e}^{-x_{n-2}}\\\\\n",
        "\\left(2-hp\\left(x_{n-1}\\right)\\right)y_{n-2}+\\left(-4+2q\\left(x_{n-1}\\right)h^{2}\\right)y_{n-1}+\\left(2+hp\\left(x_{n-1}\\right)\\right)y_{n}=2h^{2}\\left(1-x_{n-1}^{2}\\right)\\text{e}^{n-1}\n",
        "\\end{array}\\right.$$ \n",
        "e, então \n",
        "> $$Ay=b,\\quad\\quad y=[y_{1},y_{2},\\ldots,y_{n-1}]^{T}$$ \n",
        "\n",
        "onde \n",
        "\n",
        "\n",
        "$$A=\\left[\\begin{array}{l}\n",
        "-2+2q\\left(x_{1}\\right)h^{2}-hp\\left(x_{1}\\right)\\qquad2+hp\\left(x_{1}\\right)\\\\\n",
        "2-hp\\left(x_{2}\\right)\\qquad-4+2q\\left(x_{2}\\right)h^{2}\\qquad2+hp\\left(x_{2}\\right)\\\\\n",
        "\\qquad\\ddots\\qquad\\qquad\\qquad\\qquad\\ddots\\qquad\\qquad\\qquad\\qquad\\ddots\\\\\n",
        "\\\\\n",
        "\\\\\n",
        "\\\\\n",
        "\\qquad\\qquad\\qquad\\qquad\\qquad2-hp\\left(x_{n-2}\\right)\\qquad-4+2q\\left(x_{n-2}\\right)h^{2}\\qquad2+h\\left(x_{n-2}\\right)\\\\\n",
        "\\qquad\\qquad\\qquad\\qquad\\qquad\\qquad\\qquad\\qquad\\;2-hp\\left(x_{n-1}\\right)\\qquad-4+2q\\left(x_{n-1}\\right)h^{2}\n",
        "\\end{array}\\right]$$\n",
        "\n",
        "\n",
        "$$b=\\left[\\begin{array}{c}\n",
        "2h^{2}r\\left(x_{1}\\right)+2h\\left(2-hp\\left(x_{1}\\right)\\right)\\\\\n",
        "2h^{2}r\\left(x_{2}\\right)\\\\\n",
        "\\vdots\\\\\n",
        "\\\\\n",
        "2h^{2}r\\left(x_{n-2}\\right)\\\\\n",
        "2h^{2}r\\left(x_{n-1}\\right)-\\left(2+hp\\left(x_{n-1}\\right)\\right)y_{n}\n",
        "\\end{array}\\right]\n",
        "$$"
      ]
    },
    {
      "cell_type": "markdown",
      "metadata": {
        "id": "yBX4C9TGHD4E",
        "colab_type": "text"
      },
      "source": [
        " ## Implementando o problema "
      ]
    },
    {
      "cell_type": "code",
      "metadata": {
        "id": "7B8Lawusg1ii",
        "colab_type": "code",
        "colab": {}
      },
      "source": [
        "# Importando algumas bibliotecas \n",
        "import sympy as sym\n",
        "import numpy as np\n",
        "import pandas as pd\n",
        "import matplotlib.pyplot as plt"
      ],
      "execution_count": null,
      "outputs": []
    },
    {
      "cell_type": "markdown",
      "metadata": {
        "id": "OXyyhGolMbtg",
        "colab_type": "text"
      },
      "source": [
        "## Usaremos a Eliminação de Gauss no Sistema Tridiagonal para obter as soluções\n",
        "\n",
        "Lembrando que queremos a solução da equação diferencial do tipo: \n",
        " > $$y''+p(x)y'+q(x)y=r(x), \\quad 0<x<1.$$ \n",
        " "
      ]
    },
    {
      "cell_type": "markdown",
      "metadata": {
        "id": "kSvuzJNlS6O-",
        "colab_type": "text"
      },
      "source": [
        "#### Para resolver o sistema tridiagonal, segue algumas notações:\n",
        "\n",
        "d - diagonal principal (possui n elementos)\n",
        "\n",
        "di - diagonal inferior (n-1 elementos)\n",
        "\n",
        "ds - diagonal superior (n-1 elementos)\n",
        "\n",
        "b - vetor fonte do sistema\n"
      ]
    },
    {
      "cell_type": "code",
      "metadata": {
        "id": "oQYlpQ-42uzT",
        "colab_type": "code",
        "colab": {}
      },
      "source": [
        "# A função retorna a resolução do sistema tridiagonal\n",
        "def tridiagonal(d,di,ds,b):\n",
        "  tam = len(d)\n",
        "  # Eliminação de Gauss no caso tridiagonal\n",
        "  for k in range(0,tam-1):  \n",
        "    d[k+1] = d[k+1]-(di[k]/d[k])*ds[k]\n",
        "    b[k+1] = b[k+1]-(di[k]/d[k])*b[k] \n",
        "  #Resolução do sistema triangular \n",
        "  y_num = np.zeros(tam)               # vetor fonte para solução numérica \n",
        "  y_num[tam-1] = b[tam-1] / d[tam-1]    \n",
        "  for k in range(tam-2,-1,-1): \n",
        "    y_num[k] = (b[k]-ds[k]*y_num[k+1])/d[k]\n",
        "  return y_num"
      ],
      "execution_count": null,
      "outputs": []
    },
    {
      "cell_type": "markdown",
      "metadata": {
        "id": "Y0H5Fq6T3Rkc",
        "colab_type": "text"
      },
      "source": [
        "### Construindo a Matriz **A** do sistema tridiagonal e aplicando o método Elim. Gauss do sistema tridiagonal\n"
      ]
    },
    {
      "cell_type": "code",
      "metadata": {
        "id": "vfeWwylBEx2V",
        "colab_type": "code",
        "colab": {}
      },
      "source": [
        "def Elim_Gauss_Sist_Tridiagonal(p,q,r,h,a,b,yn):\n",
        "  n = int((b-a)/h)   # tamanho do passo\n",
        "  A  = pd.DataFrame(np.zeros((n-1, n-1)))\n",
        "  b  = np.zeros(n-1)\n",
        "  di = np.zeros(n-2)\n",
        "  d  = np.zeros(n-1)\n",
        "  ds = np.zeros(n-2)\n",
        "  ti = np.zeros(n-1) # ti = b vetor fonte do sistema\n",
        "  # Construção da Matriz do sistema tridiagonal\n",
        "  for j in range(0,n-1):\n",
        "    x = a + (j+1)*h\n",
        "    if j==0:    \n",
        "      d[j]  = -2 +2*(h**2)*q(x)- h*p(x)  \n",
        "      ds[j] = 2 + h*p(x)\n",
        "      ti[j] = 2*(h**2)*r(x)+2*h*(2-h*p(x))\n",
        "      # Preenchendo a matriz tridiagonal A     \n",
        "      A.iloc[j,j]   = d[j]\n",
        "      A.iloc[j,j+1] = ds[j]\n",
        "      # Preechendo a matriz B\n",
        "      b[j] = ti[j]\n",
        " \n",
        "    if j>0 and j<n-2:\n",
        "      di[j-1]= 2-h*p(x)\n",
        "      d[j]   = -4 +2*(h**2)*q(x)\n",
        "      ds[j]  = 2+h*p(x)\n",
        "      ti[j]  = 2*(h**2)*r(x)\n",
        "      # Preenchendo a matriz tridiagonal A (para visualizarmos)\n",
        "      A.iloc[j,j-1] = di[j-1]\n",
        "      A.iloc[j,j]   = d[j]\n",
        "      A.iloc[j,j+1] = ds[j]\n",
        "      # Preechendo a matriz b (para visualizarmos)\n",
        "      b[j] = ti[j]\n",
        "    if j==(n-2):\n",
        "      di[j-1]= 2-h*p(x)\n",
        "      d[j]   = -4 +2*(h**2)*q(x)      \n",
        "      ti[j]  = 2*(h**2)*r(x)-(2+h*p(x))*yn\n",
        "      # Preenchendo a matriz tridiagonal A      \n",
        "      A.iloc[j,j-1] = di[j-1]\n",
        "      A.iloc[j,j]   = d[j]\n",
        "      # Preechendo a matriz b para visualizarmos\n",
        "      b[j] = ti[j]\n",
        "  #print('Matriz A = \\n',A.replace({0.00:''}))               # Exibindo a matriz A\n",
        "  #print('\\n Vetor b = \\n',pd.DataFrame(b, columns=['']))   # Exibindo o vetor b\n",
        "  \n",
        "  # Solução Usando Elim Gauss Sist. Tridiagonais:\n",
        "  y_num = tridiagonal(d,di,ds,b)\n",
        "  #Adicionando a condição de contorno y0 e yn\n",
        "  y = np.zeros(n+1)\n",
        "  y[0] = y_num[0]-2*h\n",
        "  y[n] = yn  \n",
        "  for i in range(1,n):\n",
        "    y[i] = y_num[i-1] \n",
        "  return y\n",
        "  "
      ],
      "execution_count": null,
      "outputs": []
    },
    {
      "cell_type": "markdown",
      "metadata": {
        "id": "MJ73dve8Nk2n",
        "colab_type": "text"
      },
      "source": [
        "### Informando os valores iniciais do problema: \n",
        "\n",
        "$a=0,$ $b=1,$ $y^{'}(0) = 2,$ $y(1)=0,$ $p(x)=x+1$, $q(x)=-2$, $r(x) = (1-x^2)e^{-x}$ e solução analítica \n",
        " $y(x) = (x-1)e^{-x}.$ \n",
        "\n"
      ]
    },
    {
      "cell_type": "code",
      "metadata": {
        "id": "DJQ0PwzXNlbj",
        "colab_type": "code",
        "colab": {}
      },
      "source": [
        "def p(x):             # valor de p(x):\n",
        "  return (x+1)                \n",
        "def q(x):             # valor de q(x):\n",
        "  return (-2)                   \n",
        "def r(x):             # valor de r(x):\n",
        "  return (1-x**2)*sym.exp(-x)\n",
        "\n",
        "a=0                   # valor de a: \n",
        "b=1                   # valor de b: \n",
        "h=0.1                 # valor do passo\n",
        "\n",
        "#Condições de contorno\n",
        "yn=0                  # o valor de y(1)=1: \n",
        "n=int((b-a)/h)        # valor do inteiro n\n",
        "\n",
        "# solucao analitica y(t)\n",
        "def ya(x):\n",
        "  return (x-1)*sym.exp(-x)\n"
      ],
      "execution_count": null,
      "outputs": []
    },
    {
      "cell_type": "code",
      "metadata": {
        "id": "KWz5B40ea6W_",
        "colab_type": "code",
        "colab": {
          "base_uri": "https://localhost:8080/",
          "height": 781
        },
        "outputId": "cab9ffc2-1215-4619-f8d6-07a8fb914d4b"
      },
      "source": [
        "# Discretizando o intervalo (a,b)\n",
        "x=np.linspace(a,b+h, num=n+1, endpoint=False)\n",
        "### Soluções analítica numérica no intervalo [a,b]\n",
        "y_ana = []\n",
        "for j in x:\n",
        "    y_ana.append(ya(j))\n",
        "# Solução numérica\n",
        "y_num = Elim_Gauss_Sist_Tridiagonal(p,q,r,h,a,b,yn)\n",
        "#Criando um dicionário com a discretizaçao x e as soluções analítica\\numérica.\n",
        "dic = {'x': x, 'Solução Numérica': y_num, 'Solução Análítica': y_ana}\n",
        "#Criando um DataFrame\n",
        "df = pd.DataFrame(dic)\n",
        "df "
      ],
      "execution_count": null,
      "outputs": [
        {
          "output_type": "stream",
          "text": [
            "Matriz A = \n",
            "       0     1     2     3     4     5     6     7     8\n",
            "0 -2.15  2.11                                          \n",
            "1  1.88 -4.04  2.12                                    \n",
            "2        1.87 -4.04  2.13                              \n",
            "3              1.86 -4.04  2.14                        \n",
            "4                    1.85 -4.04  2.15                  \n",
            "5                          1.84 -4.04  2.16            \n",
            "6                                1.83 -4.04  2.17      \n",
            "7                                      1.82 -4.04  2.18\n",
            "8                                            1.81 -4.04\n",
            "\n",
            " Vetor b = \n",
            "            \n",
            "0  0.395916\n",
            "1  0.015720\n",
            "2  0.013483\n",
            "3  0.011261\n",
            "4  0.009098\n",
            "5  0.007025\n",
            "6  0.005065\n",
            "7  0.003235\n",
            "8  0.001545\n"
          ],
          "name": "stdout"
        },
        {
          "output_type": "execute_result",
          "data": {
            "text/html": [
              "<div>\n",
              "<style scoped>\n",
              "    .dataframe tbody tr th:only-of-type {\n",
              "        vertical-align: middle;\n",
              "    }\n",
              "\n",
              "    .dataframe tbody tr th {\n",
              "        vertical-align: top;\n",
              "    }\n",
              "\n",
              "    .dataframe thead th {\n",
              "        text-align: right;\n",
              "    }\n",
              "</style>\n",
              "<table border=\"1\" class=\"dataframe\">\n",
              "  <thead>\n",
              "    <tr style=\"text-align: right;\">\n",
              "      <th></th>\n",
              "      <th>x</th>\n",
              "      <th>Solução Numérica</th>\n",
              "      <th>Solução Análítica</th>\n",
              "    </tr>\n",
              "  </thead>\n",
              "  <tbody>\n",
              "    <tr>\n",
              "      <th>0</th>\n",
              "      <td>0.0</td>\n",
              "      <td>-1.067429</td>\n",
              "      <td>-1.00000000000000</td>\n",
              "    </tr>\n",
              "    <tr>\n",
              "      <th>1</th>\n",
              "      <td>0.1</td>\n",
              "      <td>-0.867429</td>\n",
              "      <td>-0.814353676232364</td>\n",
              "    </tr>\n",
              "    <tr>\n",
              "      <th>2</th>\n",
              "      <td>0.2</td>\n",
              "      <td>-0.696236</td>\n",
              "      <td>-0.654984602462386</td>\n",
              "    </tr>\n",
              "    <tr>\n",
              "      <th>3</th>\n",
              "      <td>0.3</td>\n",
              "      <td>-0.550144</td>\n",
              "      <td>-0.518572754477203</td>\n",
              "    </tr>\n",
              "    <tr>\n",
              "      <th>4</th>\n",
              "      <td>0.4</td>\n",
              "      <td>-0.425886</td>\n",
              "      <td>-0.402192027621384</td>\n",
              "    </tr>\n",
              "    <tr>\n",
              "      <th>5</th>\n",
              "      <td>0.5</td>\n",
              "      <td>-0.320585</td>\n",
              "      <td>-0.303265329856317</td>\n",
              "    </tr>\n",
              "    <tr>\n",
              "      <th>6</th>\n",
              "      <td>0.6</td>\n",
              "      <td>-0.231710</td>\n",
              "      <td>-0.219524654437611</td>\n",
              "    </tr>\n",
              "    <tr>\n",
              "      <th>7</th>\n",
              "      <td>0.7</td>\n",
              "      <td>-0.157040</td>\n",
              "      <td>-0.148975591137423</td>\n",
              "    </tr>\n",
              "    <tr>\n",
              "      <th>8</th>\n",
              "      <td>0.8</td>\n",
              "      <td>-0.094630</td>\n",
              "      <td>-0.0898657928234443</td>\n",
              "    </tr>\n",
              "    <tr>\n",
              "      <th>9</th>\n",
              "      <td>0.9</td>\n",
              "      <td>-0.042778</td>\n",
              "      <td>-0.0406569659740599</td>\n",
              "    </tr>\n",
              "    <tr>\n",
              "      <th>10</th>\n",
              "      <td>1.0</td>\n",
              "      <td>0.000000</td>\n",
              "      <td>0</td>\n",
              "    </tr>\n",
              "  </tbody>\n",
              "</table>\n",
              "</div>"
            ],
            "text/plain": [
              "      x  Solução Numérica    Solução Análítica\n",
              "0   0.0         -1.067429    -1.00000000000000\n",
              "1   0.1         -0.867429   -0.814353676232364\n",
              "2   0.2         -0.696236   -0.654984602462386\n",
              "3   0.3         -0.550144   -0.518572754477203\n",
              "4   0.4         -0.425886   -0.402192027621384\n",
              "5   0.5         -0.320585   -0.303265329856317\n",
              "6   0.6         -0.231710   -0.219524654437611\n",
              "7   0.7         -0.157040   -0.148975591137423\n",
              "8   0.8         -0.094630  -0.0898657928234443\n",
              "9   0.9         -0.042778  -0.0406569659740599\n",
              "10  1.0          0.000000                    0"
            ]
          },
          "metadata": {
            "tags": []
          },
          "execution_count": 132
        }
      ]
    },
    {
      "cell_type": "markdown",
      "metadata": {
        "id": "yXO-LE-frLvO",
        "colab_type": "text"
      },
      "source": [
        "### Visualizando as soluções analítica e numérica  "
      ]
    },
    {
      "cell_type": "code",
      "metadata": {
        "id": "RGcSLghmriA0",
        "colab_type": "code",
        "colab": {
          "base_uri": "https://localhost:8080/",
          "height": 404
        },
        "outputId": "05ee31f7-2d13-4631-eb39-c0c3ee45999d"
      },
      "source": [
        "fig=plt.figure(figsize=[8,6])\n",
        "plt.plot(x,y_ana, marker='o', label='Sol. Anal')\n",
        "plt.plot(x,y_num, marker='o', label='Sol. Num')\n",
        "plt.title('Sol. Analítica e Numérica')\n",
        "plt.xlabel('x')\n",
        "plt.ylabel('y')\n",
        "plt.legend()\n",
        "plt.show()"
      ],
      "execution_count": null,
      "outputs": [
        {
          "output_type": "display_data",
          "data": {
            "image/png": "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\n",
            "text/plain": [
              "<Figure size 576x432 with 1 Axes>"
            ]
          },
          "metadata": {
            "tags": [],
            "needs_background": "light"
          }
        }
      ]
    },
    {
      "cell_type": "code",
      "metadata": {
        "id": "R4zHaTxMayPp",
        "colab_type": "code",
        "colab": {
          "base_uri": "https://localhost:8080/",
          "height": 51
        },
        "outputId": "f244796e-3562-4feb-e7bc-d09810b4894b"
      },
      "source": [
        "# Erro Quadrático Médio\n",
        "print('MSE:',sum((y_ana-y_num)**2)/len(y_ana))\n",
        "# Erro Absoluto Médio\n",
        "print('MAE:',sum(abs(y_ana-y_num))/len(y_ana))"
      ],
      "execution_count": null,
      "outputs": [
        {
          "output_type": "stream",
          "text": [
            "MSE: 0.00101493037947058\n",
            "MAE: 0.0237705877716691\n"
          ],
          "name": "stdout"
        }
      ]
    },
    {
      "cell_type": "markdown",
      "metadata": {
        "id": "r86ZNMQUVymR",
        "colab_type": "text"
      },
      "source": [
        "## Agora veremos o Erro Absoluto Médio (MAE) para alguns passos h"
      ]
    },
    {
      "cell_type": "code",
      "metadata": {
        "id": "yOMUt6L54wmT",
        "colab_type": "code",
        "colab": {
          "base_uri": "https://localhost:8080/",
          "height": 387
        },
        "outputId": "644894b4-e909-4c74-eefa-40513075b6e7"
      },
      "source": [
        "\n",
        "lista = [0.2,0.1,0.05,0.01,0.005] # Lista de passos\n",
        "erro = []                   # Lista de erros\n",
        "for hi in lista:\n",
        "  # Discretizando o intervalo [a,b]\n",
        "  x=np.linspace(a,b+hi, num=(int((b-a)/hi))+1, endpoint=False)\n",
        "  ### Soluções analítica numérica\n",
        "  y_ana = []\n",
        "  for j in x:\n",
        "    y_ana.append(ya(j))\n",
        "  erro.append(sum(abs(y_ana-Elim_Gauss_Sist_Tridiagonal(p,q,r,hi,a,b,yn)))/len(y_ana))\n",
        "\n",
        "dist = {'h=0.20':erro[0],'h=0.10':erro[1],'h=0.05':erro[2],'h=0.01':erro[3],'h=0.005':erro[4]}\n",
        "erro_mae = pd.DataFrame(dist,index=['']).astype(float)\n",
        "print('Tabela de Erro:\\n\\n',erro_mae,'\\n \\n')\n",
        "erro_mae.plot.bar()\n",
        "plt.title('MAE - Erro Absoluto Médio para cada passo h')\n",
        "plt.xlabel('h')\n",
        "plt.ylabel('Erro')\n",
        "plt.legend()\n",
        "plt.show()"
      ],
      "execution_count": null,
      "outputs": [
        {
          "output_type": "stream",
          "text": [
            "Tabela de Erro:\n",
            "\n",
            "     h=0.20    h=0.10    h=0.05    h=0.01   h=0.005\n",
            "  0.051349  0.023771  0.011433  0.002217  0.001104 \n",
            " \n",
            "\n"
          ],
          "name": "stdout"
        },
        {
          "output_type": "display_data",
          "data": {
            "image/png": "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\n",
            "text/plain": [
              "<Figure size 432x288 with 1 Axes>"
            ]
          },
          "metadata": {
            "tags": [],
            "needs_background": "light"
          }
        }
      ]
    },
    {
      "cell_type": "code",
      "metadata": {
        "id": "ZJYthY3D_nPF",
        "colab_type": "code",
        "colab": {
          "base_uri": "https://localhost:8080/",
          "height": 513
        },
        "outputId": "d92e94fe-4ef6-402d-970c-21a9b44c56ef"
      },
      "source": [
        "# Discretizando o intervalo [a,b]\n",
        "x=np.linspace(a,b+0.1, num=int((b-a)/0.1)+1, endpoint=False)\n",
        "### Soluções analítica numérica no intervalo [a,b]\n",
        "y_ana = []\n",
        "for j in x:\n",
        "    y_ana.append(ya(j))\n",
        "\n",
        "fig=plt.figure(figsize=[10,8])\n",
        "plt.plot(x,y_ana, marker='', label='Sol. Anal')\n",
        "##\n",
        "x = np.linspace(a,b+0.2, num=int((b-a)/0.2)+1, endpoint=False)\n",
        "plt.plot(x,Elim_Gauss_Sist_Tridiagonal(p,q,r,0.2,a,b,yn), marker='', label='Sol. Num h=0.2')\n",
        "##\n",
        "x = np.linspace(a,b+0.1, num=int((b-a)/0.1)+1, endpoint=False)\n",
        "plt.plot(x,Elim_Gauss_Sist_Tridiagonal(p,q,r,0.1,a,b,yn), marker='', label='Sol. Num h=0.1')\n",
        "##\n",
        "x = np.linspace(a,b+0.05, num=int((b-a)/0.05)+1, endpoint=False)\n",
        "plt.plot(x,Elim_Gauss_Sist_Tridiagonal(p,q,r,0.05,a,b,yn), marker='', label='Sol. Num h=0.05')\n",
        "##\n",
        "x = np.linspace(a,b+0.01, num=int((b-a)/0.01)+1, endpoint=False)\n",
        "plt.plot(x,Elim_Gauss_Sist_Tridiagonal(p,q,r,0.01,a,b,yn), marker='', label='Sol. Num h=0.01')\n",
        "##\n",
        "x = np.linspace(a,b+0.005, num=int((b-a)/0.005)+1, endpoint=False)\n",
        "plt.plot(x,Elim_Gauss_Sist_Tridiagonal(p,q,r,0.005,a,b,yn), marker='', label='Sol. Num h=0.005')\n",
        "\n",
        "\n",
        "plt.title('Sol. Analítica e Numéricas')\n",
        "plt.xlabel('x')\n",
        "plt.ylabel('y')\n",
        "#plt.ylim(-1,-0.9)\n",
        "#plt.xlim(0,0.1)\n",
        "plt.legend()\n",
        "plt.show()"
      ],
      "execution_count": null,
      "outputs": [
        {
          "output_type": "display_data",
          "data": {
            "image/png": "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\n",
            "text/plain": [
              "<Figure size 720x576 with 1 Axes>"
            ]
          },
          "metadata": {
            "tags": [],
            "needs_background": "light"
          }
        }
      ]
    },
    {
      "cell_type": "markdown",
      "metadata": {
        "id": "lMAYXVJlXP6Q",
        "colab_type": "text"
      },
      "source": [
        "Podemos observar que: quanto menor o tamanho do passo $h$ menor o erro; ou seja, a solução numérica aproxima-se da solução analítica à medida que diminuímos o passo. Diante disso, podemos concluir que o método utilizado *(diferenças finitas)* é bastante eficiente, podendo assim utilizá-lo em outras equações diferencias que não possuem soluções analíticas. "
      ]
    },
    {
      "cell_type": "markdown",
      "metadata": {
        "id": "ZDwF9PeJ6_ai",
        "colab_type": "text"
      },
      "source": [
        "**Exercício 2**  `(Livro de Cunha [1] pg: 196, Exer. 3.b)` Encaminhe um procedimento que, acoplando o método de Newton à discretização, por via de diferenças finitas, forneça soluções aproximadas para o problema não-linear com dados de contorno:\n",
        "\n",
        "**b)** associado a equação diferencial de segunda ordem  \n",
        "\n",
        "> $$y^{''}=y^{3}-yy^{'}, \\tag{2}$$\n",
        "\n",
        "$y\\in\\left(1,2\\right)$ com condições de contorno $y\\left(1\\right)=\\frac{1}{2}$ e $y\\left(2\\right)=\\frac{1}{3}.$ Passo $h=0.1.$ "
      ]
    },
    {
      "cell_type": "markdown",
      "metadata": {
        "id": "9A655TZigy_R",
        "colab_type": "text"
      },
      "source": [
        "**Solução:** Queremos resolver esse problema acoplando o método de Newton à discretização, por via de diferenças finitas. O método de Newton nada mais é que encontrar aproximação da iteração $k+1$ resolvendo um sistema linear para calcular $v=y^{k+1}-y^{k}:$ \n",
        "\n",
        "> $$J\\left(y^{k}\\right)v=-F\\left(y^{k}\\right)$$ \n",
        "\n",
        "onde $J\\left(y^{k}\\right)$ é a matriz jacobiana em $y^{k}$ e $F\\left(y^{k}\\right)$ o vetor tal que: \n",
        "\n",
        "$$F\\left(y^{k}\\right)=\\left[\\begin{array}{c}\n",
        "f_{1}\\left(y^{k}\\right)=0\\\\\n",
        "f_{2}\\left(y^{k}\\right)=0\\\\\n",
        "\\vdots\\\\\n",
        "f_{n-1}\\left(y^{k}\\right)=0\n",
        "\\end{array}\\right].$$\n",
        "\n",
        "Assim, a nova solução será \n",
        "\n",
        "> $$y^{k+1}=y^{k}+v.$$\n",
        "\n",
        "De início, discretizaremos a equação (2). Para isto, usaremos as fórmulas centradas de **diferenças finitas** de primeira e segunda ordem para cada ponto $x_{i}, i=1,2,\\ldots n-1,$ i.e., \n",
        "\n",
        "> $$y'(x_{i})\\cong\\frac{y_{i+1}-y_{i-1}}{2h}\\qquad\\text{e}\\qquad y''(x_{i})\\cong\\frac{y_{i+1}-2y_{i}+y_{i-1}}{h^{2}}.$$\n",
        "\n",
        "Substituindo-os na equação (2) temos que: \n",
        "\n",
        "> $$\\frac{y_{i+1}-2y_{i}+y_{i-1}}{h^{2}}=y_{i}^{3}-y_{i}\\frac{y_{i+1}-y_{i-1}}{2h},\\quad i=1:n-1.$$ \n",
        "\n",
        "Expandindo-o tem-se \n",
        "\n",
        "> $$2\\left(y_{i+1}-2y_{i}+y_{i-1}\\right)=2h^{2}y_{i}^{3}-hy_{i}\\left(y_{i+1}-y_{i-1}\\right),\\quad i=1:n-1,$$\n",
        "\n",
        "ou seja:\n",
        " \n",
        " > $$\\left(2-hy_{i}\\right)y_{i-1}-4y_{i}-2h^{2}y_{i}^{3}+\\left(2+hy_{i}\\right)y_{i+1}=0,\\quad i=1:n-1.$$\n",
        "\n",
        "Diante disso, temos o sistema linear: \n",
        "\n",
        "$$\\left\\{ \\begin{array}{l}\n",
        "f_{1}\\left(y\\right)=\\left(2-hy_{1}\\right)y_{0}-4y_{1}-2h^{2}y_{1}^{3}+\\left(2+hy_{1}\\right)y_{2}=0,\\\\\n",
        "f_{2}\\left(y\\right)=\\left(2-hy_{2}\\right)y_{1}-4y_{2}-2h^{2}y_{2}^{3}+\\left(2+hy_{2}\\right)y_{3}=0,\\\\\n",
        "f_{3}\\left(y\\right)=\\left(2-hy_{3}\\right)y_{2}-4y_{3}-2h^{2}y_{3}^{3}+\\left(2+hy_{3}\\right)y_{4}=0,\\\\\n",
        "\\vdots\\\\\n",
        "f_{n-2}\\left(y\\right)=\\left(2-hy_{n-2}\\right)y_{n-3}-4y_{n-2}-2h^{2}y_{n-2}^{3}+\\left(2+hy_{n-2}\\right)y_{n-1}=0,\\\\\n",
        "f_{n-1}\\left(y\\right)=\\left(2-hy_{n-1}\\right)y_{n-2}-4y_{n-1}-2h^{2}y_{n-1}^{3}+\\left(2+hy_{n-1}\\right)y_{n}=0,\n",
        "\\end{array}\\right.$$ \n",
        " \n",
        "onde $y=\\left(y_{1},y_{2},\\ldots,y_{n-1}\\right)$ e condição contorno\n",
        "\n",
        "$$\\left\\{ \\begin{array}{c}\n",
        "y\\left(1\\right)=y\\left(x_{0}\\right)=\\frac{1}{2}\\\\\n",
        "y\\left(2\\right)=y\\left(x_{n}\\right)=\\frac{1}{3}\n",
        "\\end{array}\\right.=\\left\\{ \\begin{array}{c}\n",
        "y_{0}=\\frac{1}{2}\\\\\n",
        "y_{n}=\\frac{1}{3}.\n",
        "\\end{array}\\right.$$ \n",
        "\n",
        "As derivadas parciais destas funções são \n",
        "\n",
        "\n",
        "$$\\left\\{ \\begin{array}{l}\n",
        "\\frac{\\partial f_{1}}{\\partial y_{1}}=-hy_{0}-4-6h^{2}y_{1}^{2}+hy_{2},\\quad\\frac{\\partial f_{1}}{\\partial y_{2}}=2+hy_{1},\\quad\\frac{\\partial f_{1}}{\\partial y_{3}}=\\frac{\\partial f_{1}}{\\partial y_{4}}=\\ldots=\\frac{\\partial f_{1}}{\\partial y_{n-1}}=0,\\\\\n",
        "\\frac{\\partial f_{2}}{\\partial y_{1}}=2-hy_{2},\\quad\\frac{\\partial f_{2}}{\\partial y_{2}}=-hy_{1}-4-6h^{2}y_{2}^{2}+hy_{3},\\quad\\frac{\\partial f_{2}}{\\partial y_{3}}=2+hy_{2},\\quad\\frac{\\partial f_{2}}{\\partial y_{4}}=\\ldots=\\frac{\\partial f_{2}}{\\partial y_{n-1}}=0,\\\\\n",
        "\\frac{\\partial f_{3}}{\\partial y_{1}}=0,\\quad\\frac{\\partial f_{3}}{\\partial y_{2}}=2-hy_{3},\\quad\\frac{\\partial f_{3}}{\\partial y_{3}}=-hy_{2}-4-6h^{2}y_{3}^{2}+hy_{4},\\quad\\frac{\\partial f_{3}}{\\partial y_{4}}=2+hy_{3},\\quad\\frac{\\partial f_{3}}{\\partial y_{5}}=\\ldots\\\\\n",
        "\\hfill\\hfill\\qquad\\qquad\\qquad\\qquad=\\frac{\\partial f_{3}}{\\partial y_{n-1}}=0,\\\\\n",
        "\\vdots\\\\\n",
        "\\frac{\\partial f_{n-2}}{\\partial y_{i}}=\\ldots=\\frac{\\partial f_{n-2}}{\\partial y_{n-4}}=0,\\quad\\frac{\\partial f_{n-2}}{\\partial y_{n-3}}=2-hy_{n-2},\\quad\\frac{\\partial f_{n-2}}{\\partial y_{n-2}}=-hy_{n-3}-4-6h^{2}y_{n-2}^{2}+hy_{n-1},\\\\\n",
        "\\hfill\\hfill\\qquad\\qquad\\qquad\\qquad\\quad\\frac{\\partial f_{n-2}}{\\partial y_{n-1}}=2+hy_{n-2},\\\\\n",
        "\\frac{\\partial f_{n-1}}{\\partial y_{1}}=\\ldots=\\frac{\\partial f_{n-1}}{\\partial y_{n-3}}=0,\\quad\\frac{\\partial f_{n-1}}{\\partial y_{n-2}}=2-hy_{n-1},\\quad\\frac{\\partial f_{n-1}}{\\partial y_{n-1}}=-hy_{n-2}-4-6h^{2}y_{n-1}^{2}+hy_{n},\n",
        "\\end{array}\\right.$$ \n",
        "\n",
        "e, portanto, a matriz jacobiana é \n",
        "\n",
        "\n",
        "$$ Jy=\\left[\\begin{array}{l}\n",
        "-hy_{0}-4-6h^{2}y_{1}^{2}+hy_{2}\\qquad2+hy_{1}\\\\\n",
        "2-hy_{2}\\qquad-hy_{1}-4-6h^{2}y_{2}^{2}+hy_{3}\\qquad2+hy_{2}\\\\\n",
        "\\qquad\\ddots\\qquad\\qquad\\qquad\\qquad\\ddots\\qquad\\qquad\\qquad\\qquad\\ddots\\\\\n",
        "\\\\\n",
        "\\\\\n",
        "\\\\\n",
        "\\qquad\\qquad\\qquad\\qquad\\qquad2-hy_{n-2}\\qquad-hy_{n-3}-4-6h^{2}y_{n-2}^{2}+hy_{n-1}\\qquad2+hy_{n-2}\\\\\n",
        "\\qquad\\qquad\\qquad\\qquad\\qquad\\qquad\\qquad\\qquad\\;2-hy_{n-1}\\qquad-hy_{n-2}-4-6h^{2}y_{n-1}^{2}+hy_{n}\n",
        "\\end{array}\\right]$$ \n",
        "\n",
        "e\n",
        "\n",
        "$$F\\left(y\\right)=\\left[\\begin{array}{c}\n",
        "\\left(2-hy_{1}\\right)y_{0}-4y_{1}-2h^{2}y_{1}^{3}+\\left(2+hy_{1}\\right)y_{2}\\\\\n",
        "\\left(2-hy_{2}\\right)y_{1}-4y_{2}-2h^{2}y_{2}^{3}+\\left(2+hy_{2}\\right)y_{3}\\\\\n",
        "\\vdots\\\\\n",
        "\\left(2-hy_{n-1}\\right)y_{n-2}-4y_{n-1}-2h^{2}y_{n-1}^{3}+\\left(2+hy_{n-1}\\right)y_{n}\n",
        "\\end{array}\\right]$$ \n",
        "\n",
        "onde $y=\\left(y_{1},y_{2},\\ldots,y_{n-1}\\right).$ Denotemos $y:=y^{k}$, assim, $y^{k}=\\left(y_{1}^{k},y_{2}^{k},\\ldots,y_{n-1}^{k}\\right),$  $k$  iterações. Para implementarmos esse problema, tomaremos uma aproximação inicial $y^{0}=\\left(y_{1}^{0},\\ldots,y_{n-1}^{0}\\right)$, e, portanto, teremos $J\\left(y^{0}\\right)$ e $F\\left(y^{0}\\right).$ Daí, resolvendo o sistema \n",
        "\n",
        "> $$J\\left(y^{0}\\right)v=-F\\left(y^{0}\\right),$$\n",
        "\n",
        " teremos uma nova aproximação:\n",
        "\n",
        "> $$y^{1}=y^{0}+v,$$\n",
        "\n",
        "com $erro=\\left\\Vert y^{1}-y^{0}\\right\\Vert.$  Note que a cada $k$ iteração teremos um $erro=\\left\\Vert y^{k}-y^{k-1}\\right\\Vert.$  Com isso define-se o critério de parada $\\epsilon,$  i.e., se $\\left\\Vert y^{k}-y^{k-1}\\right\\Vert <\\epsilon,$ então a solução aproximada $y^{*}$ segundo o critério de parada $\\epsilon$ é $y^{*}=y^{k}$ com $k$ iterações. \n",
        "\n",
        "### Agora, vamos implementar esse resultado. Tomaremos uma aproximação inicial como $y^{0}=\\left(0,\\ldots,0\\right)$ (vetor zero) e critério de parada $\\epsilon=10^{-14}.$ "
      ]
    },
    {
      "cell_type": "code",
      "metadata": {
        "id": "Cp2Vw83dNzSv",
        "colab_type": "code",
        "colab": {}
      },
      "source": [
        "# Importando algumas bibliotecas \n",
        "import sympy as sym\n",
        "import numpy as np\n",
        "import pandas as pd\n",
        "import matplotlib.pyplot as plt"
      ],
      "execution_count": null,
      "outputs": []
    },
    {
      "cell_type": "markdown",
      "metadata": {
        "id": "Bg0zsCqQrQNh",
        "colab_type": "text"
      },
      "source": [
        "## Código para a resolução de sistemas lineares Ax=b pelo Método de Eliminação de Gauss\n",
        "\n",
        "\n",
        "\n"
      ]
    },
    {
      "cell_type": "code",
      "metadata": {
        "id": "t8V77XzEfhMi",
        "colab_type": "code",
        "colab": {}
      },
      "source": [
        "def gauss(A,b):\n",
        "  n=len(b)\n",
        "  v = np.zeros(n)          # vetor solução\n",
        "  # Eliminação de Gauss\n",
        "  for k in range(0,n-1): \n",
        "    for i in range(k+1,n):\n",
        "      m = A[i,k]/A[k,k]\n",
        "      for j in range(k,n):\n",
        "        A[i,j]= A[i,j]- m*A[k,j]\n",
        "      b[i]=b[i]-m*b[k]\n",
        "  #Resolução do sistema  \n",
        "  v[n-1] = b[n-1]/A[n-1,n-1]\n",
        "  for i in range(n-1,-1,-1):\n",
        "    soma = b[i]\n",
        "    for j in range(i+1,n):\n",
        "      soma = soma - A[i,j]*v[j]\n",
        "    v[i]= soma/A[i,i]\n",
        "  #print('Matriz Eliminação de Gauss A:\\n\\n',pd.DataFrame(A))\n",
        "  #print(\"Matriz b: \\n\\n\", b)\n",
        "  return v\n"
      ],
      "execution_count": null,
      "outputs": []
    },
    {
      "cell_type": "markdown",
      "metadata": {
        "id": "WVQs2YXtAizu",
        "colab_type": "text"
      },
      "source": [
        "## Implementando o Método de Newton para sistemas não-lineares\n",
        " "
      ]
    },
    {
      "cell_type": "code",
      "metadata": {
        "id": "8bpuGyIAAqNt",
        "colab_type": "code",
        "colab": {}
      },
      "source": [
        "# Método de Newton para sist. não-lineares\n",
        "def newton(a,b,h,y0,yn,e):\n",
        "  #dados iniciais do problema\n",
        "  n=int((b-a)/h)\n",
        "  #x=np.linspace(a,b+h, num=n+1, endpoint=False) # discretizando o intervalo [a,b]\n",
        "  y = np.zeros(n+1)                              # Vetor solução \n",
        "  y[0]=y0                                        # condição de contorno\n",
        "  y[n]=yn                                        # condição de contorno\n",
        "  # função de f(y) \n",
        "  def f(y1,y2,y3):\n",
        "    return (2-h*y2)*y1 - 4*y2 - 2*(h**2)*((y2)**3) + (2 + h*y2)*y3 \n",
        "  # derivadas parciais do função f\n",
        "  def f_y1(y2):                                 # derivada parcial de f em relação a y1\n",
        "    return 2 - h*(y2) \n",
        "  def f_y2(y1,y2,y3):                           # derivada parcial de f em relação a y2\n",
        "    return  -h*(y1) -4 -6*(h**2)*((y2)**2) + h*(y3)\n",
        "  def f_y3(y2):                                 # derivada parcial de f em relação a y3\n",
        "    return 2 + h*(y2)\n",
        "  F = np.zeros(n-1)                             # vetor F\n",
        "  J = np.zeros((n-1,n-1))                         # matriz jacobiana  \n",
        "  cont = 0                                      # contador de iterações\n",
        "  for k in range(0,100):                        # loop das iterações do método de newton\n",
        "    for i in range(0,n-1):\n",
        "      F[i] = f(y[i],y[i+1],y[i+2])              # valores de fi(y), y=(y1,y2,...,yn-1)\n",
        "    for j in range(1,n-2):                      # calculo da matriz jacobiana \n",
        "      J[j,j]  = f_y2(y[j-1],y[j],y[j+1])\n",
        "      J[j,j-1]= f_y1(y[j])\n",
        "      J[j,j+1]= f_y3(y[j])\n",
        "    ####  \n",
        "    J[0,0]    = f_y2(y[0],y[1],y[2])\n",
        "    J[0,1]    = f_y3(y[1])\n",
        "    J[n-2,n-2]= f_y2(y[n-2],y[n-1],y[n])\n",
        "    J[n-2,n-3]= f_y1(y[n-1])\n",
        "    ####\n",
        "    b = -F\n",
        "    v = gauss(J,b)                                   # Soluçao do sistem Jv = -F\n",
        "    # Atualizando a Aproximação\n",
        "    for i in range(0,n-1):\n",
        "      y[i+1] = y[i+1] + v[i] \n",
        "    #calculando a norma do vetor \n",
        "    norm = np.sqrt(sum(v*v))\n",
        "    # Teste de parada:\n",
        "    if norm < e:\n",
        "      print('Mariz jacobiana na última interação :\\n\\n',pd.DataFrame(J))\n",
        "      print('Vetor b na última interação:\\n\\n',pd.DataFrame(b))\n",
        "      print('\\n Interação:',cont,'\\n Passo:',h)\n",
        "      return y\n",
        "    cont=cont+1"
      ],
      "execution_count": null,
      "outputs": []
    },
    {
      "cell_type": "markdown",
      "metadata": {
        "id": "U7L7fhO2qOSU",
        "colab_type": "text"
      },
      "source": [
        "### Informando os valores iniciais do problema: \n"
      ]
    },
    {
      "cell_type": "code",
      "metadata": {
        "id": "FSA5fiv0Qfv6",
        "colab_type": "code",
        "colab": {
          "base_uri": "https://localhost:8080/",
          "height": 883
        },
        "outputId": "155dee4f-2aa6-47d0-88de-68eba196c699"
      },
      "source": [
        "h=0.1       # passo\n",
        "e=10**(-14) # condição de parada\n",
        "# a e b do intervalo [a,b]\n",
        "a = 1        \n",
        "b = 2\n",
        "# condições de contorno\n",
        "y0 = 1/2\n",
        "yn = 1/3 \n",
        "# Discretizando o intervalo (a,b)\n",
        "x=np.linspace(a,b+h, num=int((b-a)/h)+1, endpoint=False)\n",
        "#Resolução pelo método de newton\n",
        "y_num = newton(a,b,h,y0,yn,e)\n",
        "dic = {'x': x, 'Solução Numérica': y_num}\n",
        "#Criando um DataFrame\n",
        "df = pd.DataFrame(dic)\n",
        "df"
      ],
      "execution_count": null,
      "outputs": [
        {
          "output_type": "stream",
          "text": [
            "Mariz jacobiana na última interação :\n",
            "\n",
            "          0         1         2  ...         6         7         8\n",
            "0 -4.01815  2.047620  0.000000  ...  0.000000  0.000000  0.000000\n",
            "1  0.00000 -3.023232  2.047620  ...  0.000000  0.000000  0.000000\n",
            "2  0.00000  0.000000 -2.692734  ...  0.000000  0.000000  0.000000\n",
            "3  0.00000  0.000000  0.000000  ...  0.000000  0.000000  0.000000\n",
            "4  0.00000  0.000000  0.000000  ...  0.000000  0.000000  0.000000\n",
            "5  0.00000  0.000000  0.000000  ...  2.040001  0.000000  0.000000\n",
            "6  0.00000  0.000000  0.000000  ... -2.321307  2.038463  0.000000\n",
            "7  0.00000  0.000000  0.000000  ...  0.000000 -2.287198  2.037038\n",
            "8  0.00000  0.000000  0.000000  ...  0.000000  0.000000 -2.258976\n",
            "\n",
            "[9 rows x 9 columns]\n",
            "Vetor b na última interação:\n",
            "\n",
            "               0\n",
            "0 -0.000000e+00\n",
            "1  1.110223e-16\n",
            "2  2.938214e-16\n",
            "3 -1.195785e-16\n",
            "4 -9.259863e-17\n",
            "5  3.637906e-17\n",
            "6 -8.087527e-17\n",
            "7 -6.839039e-17\n",
            "8 -5.877168e-17\n",
            "\n",
            " Interação: 7 \n",
            " Passo: 0.1\n"
          ],
          "name": "stdout"
        },
        {
          "output_type": "execute_result",
          "data": {
            "text/html": [
              "<div>\n",
              "<style scoped>\n",
              "    .dataframe tbody tr th:only-of-type {\n",
              "        vertical-align: middle;\n",
              "    }\n",
              "\n",
              "    .dataframe tbody tr th {\n",
              "        vertical-align: top;\n",
              "    }\n",
              "\n",
              "    .dataframe thead th {\n",
              "        text-align: right;\n",
              "    }\n",
              "</style>\n",
              "<table border=\"1\" class=\"dataframe\">\n",
              "  <thead>\n",
              "    <tr style=\"text-align: right;\">\n",
              "      <th></th>\n",
              "      <th>x</th>\n",
              "      <th>Solução Numérica</th>\n",
              "    </tr>\n",
              "  </thead>\n",
              "  <tbody>\n",
              "    <tr>\n",
              "      <th>0</th>\n",
              "      <td>1.0</td>\n",
              "      <td>0.500000</td>\n",
              "    </tr>\n",
              "    <tr>\n",
              "      <th>1</th>\n",
              "      <td>1.1</td>\n",
              "      <td>0.476197</td>\n",
              "    </tr>\n",
              "    <tr>\n",
              "      <th>2</th>\n",
              "      <td>1.2</td>\n",
              "      <td>0.454556</td>\n",
              "    </tr>\n",
              "    <tr>\n",
              "      <th>3</th>\n",
              "      <td>1.3</td>\n",
              "      <td>0.434796</td>\n",
              "    </tr>\n",
              "    <tr>\n",
              "      <th>4</th>\n",
              "      <td>1.4</td>\n",
              "      <td>0.416680</td>\n",
              "    </tr>\n",
              "    <tr>\n",
              "      <th>5</th>\n",
              "      <td>1.5</td>\n",
              "      <td>0.400013</td>\n",
              "    </tr>\n",
              "    <tr>\n",
              "      <th>6</th>\n",
              "      <td>1.6</td>\n",
              "      <td>0.384627</td>\n",
              "    </tr>\n",
              "    <tr>\n",
              "      <th>7</th>\n",
              "      <td>1.7</td>\n",
              "      <td>0.370380</td>\n",
              "    </tr>\n",
              "    <tr>\n",
              "      <th>8</th>\n",
              "      <td>1.8</td>\n",
              "      <td>0.357150</td>\n",
              "    </tr>\n",
              "    <tr>\n",
              "      <th>9</th>\n",
              "      <td>1.9</td>\n",
              "      <td>0.344831</td>\n",
              "    </tr>\n",
              "    <tr>\n",
              "      <th>10</th>\n",
              "      <td>2.0</td>\n",
              "      <td>0.333333</td>\n",
              "    </tr>\n",
              "  </tbody>\n",
              "</table>\n",
              "</div>"
            ],
            "text/plain": [
              "      x  Solução Numérica\n",
              "0   1.0          0.500000\n",
              "1   1.1          0.476197\n",
              "2   1.2          0.454556\n",
              "3   1.3          0.434796\n",
              "4   1.4          0.416680\n",
              "5   1.5          0.400013\n",
              "6   1.6          0.384627\n",
              "7   1.7          0.370380\n",
              "8   1.8          0.357150\n",
              "9   1.9          0.344831\n",
              "10  2.0          0.333333"
            ]
          },
          "metadata": {
            "tags": []
          },
          "execution_count": 31
        }
      ]
    },
    {
      "cell_type": "code",
      "metadata": {
        "id": "Z4Hsw-6trqAm",
        "colab_type": "code",
        "colab": {
          "base_uri": "https://localhost:8080/",
          "height": 404
        },
        "outputId": "1db39826-fd92-47b7-ec38-cec4dc03fc7d"
      },
      "source": [
        "fig=plt.figure(figsize=[8,6])\n",
        "plt.plot(x,y, marker='o', label='Sol. Anal h=01')\n",
        "plt.title('Sol.Numérica')\n",
        "plt.xlabel('x')\n",
        "plt.ylabel('y')\n",
        "plt.legend()\n",
        "plt.show()"
      ],
      "execution_count": null,
      "outputs": [
        {
          "output_type": "display_data",
          "data": {
            "image/png": "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\n",
            "text/plain": [
              "<Figure size 576x432 with 1 Axes>"
            ]
          },
          "metadata": {
            "tags": [],
            "needs_background": "light"
          }
        }
      ]
    },
    {
      "cell_type": "markdown",
      "metadata": {
        "id": "iwLu5zcSvfvZ",
        "colab_type": "text"
      },
      "source": [
        "**Exercício 3**  `(Livro de Cunha [1] pg: 196, Exer. 4.a.b)` Usando o desenvolvimento em série de Taylor até o termo de segunda ordem, encontre aproximações para a solução dos problemas de valor inicial abaixo. Compare quando possível, seus resultados com a solução analítica. \n",
        "\n",
        " **a)**  A equação diferencial é dada por \n",
        " \n",
        " > $$y^{'}=\\frac{1}{x^{2}}-\\frac{y}{x}-y^{2} \\tag{3.a}$$\n",
        " \n",
        "$x>1$ com condição inicial  $y\\left(1\\right)=-1.$ Passos  $h=\\frac{1}{16}$ e $h=\\frac{1}{32}.$ Solução analítica $y\\left(x\\right)=\\frac{1}{x}.$ \n",
        "\n",
        "**b)** A equação diferencial é dada por \n",
        "\n",
        "> $$y^{'}=-xy+\\frac{1}{y^{2}} \\tag{3.b}$$\n",
        "\n",
        "$x>1$ com condição inicial $y\\left(1\\right)=1.$ Passo $h=0.05.$ "
      ]
    },
    {
      "cell_type": "markdown",
      "metadata": {
        "id": "GNtcL-HlikUX",
        "colab_type": "text"
      },
      "source": [
        "**Solução.**  Primeiro notemos que como $y_{i+1}=y\\left(x_{i+1}\\right)=y\\left(x_{i}+h\\right),$ pela série de Taylor até o termo de segunda ordem temos que: \n",
        "\n",
        "> $$y_{i+1}=y_{i}+hy^{'}\\left(x_{i}\\right)+\\frac{h^{2}}{2}y^{''}\\left(x_{i}\\right)+\\mathcal{O}\\left(h^{3}\\right), \\tag{3.1}$$ \n",
        "\n",
        "onde $\\mathcal{O}\\left(h^{3}\\right)$ é a ordem do erro desta aproximação. Usando \n",
        "\n",
        "> $$y^{'}\\left(x\\right)=f\\left(x,y\\right)\\tag{3.2}$$\n",
        "\n",
        "e, derivando-o, obtemos: \n",
        "\n",
        "> $$y^{''}\\left(x\\right)=f_{x}\\left(x,y\\right)+f_{y}\\left(x,y\\right)f\\left(x,y\\right)=f_{x}=f_{y}f. \\tag{3.3}$$\n",
        "\n",
        "Agora, substituindo (3.2) e (3.3) em (3.1) temos que \n",
        "\n",
        "> $$y_{i+1}=y_{i}+hf\\left(x_{i},y_{i}\\right)+\\frac{h^{2}}{2}\\left[f_{x}\\left(x_{i},y_{i}\\right)+f_{y}\\left(x_{i},y_{i}\\right)f\\left(x_{i},y_{i}\\right)\\right]+\\mathcal{O}\\left(h^{3}\\right). \\tag{3.4}$$\n",
        "\n",
        "**Como funciona o  método:**  tomando como exemplo o problema (3.a) temos que \n",
        "\n",
        "> $$f\\left(x,y\\right)=\\frac{1}{x^{2}}-\\frac{y}{x}-y^{2}.$$ \n",
        "\n",
        "Calculando as derivadas de $f,$ obtemos \n",
        "\n",
        "> $$f_{x}=-\\frac{2}{x^{3}}+\\frac{y}{x^{2}},\\qquad f_{y}=-\\frac{1}{x}-2y.$$\n",
        "\n",
        "Tomando a condição inicial $y\\left(1\\right)=-1,$ (ou seja, $x_{0}=1$ e $y_{0}=-1$)  temos que \n",
        "\n",
        "> $$f\\left(x_{0},y_{0}\\right)=-1,\\quad f_{x}\\left(x_{0},y_{0}\\right)=-3,\\qquad f_{y}\\left(x_{0},y_{0}\\right)=1.$$\n",
        "\n",
        "Escolhendo o passo $h$ na evolução de $x$ e aplicando estes valores em (3.4) teremos \n",
        "\n",
        "$$y\\left(x_{0}+h\\right)\\cong y_{1}=\\underset{-1}{\\underbrace{y_{0}}}+h\\underset{-1}{\\underbrace{f\\left(x_{0},y_{0}\\right)}}+\\frac{h^{2}}{2}\\left[\\underset{-3}{\\underbrace{f_{x}\\left(x_{0},y_{0}\\right)}}+\\underset{1}{\\underbrace{f_{y}\\left(x_{0},y_{0}\\right)}}\\underset{-1}{\\underbrace{f\\left(x_{0},y_{0}\\right)}}\\right] $$ \n",
        "\n",
        "então  $y_{1}=-1-h-2h^{2}.$  No segundo passo já conhecendo os valores $x_{1}$ e $y_{1}$ (i.e., $x_{1}=x_{0}+h$ e $y_{1}=-1-h-2h^{2}$) então os valores \n",
        "\n",
        "> $$f\\left(x_{1},y_{1}\\right), \\quad f_{x}\\left(x_{1},y_{1}\\right) \\quad e \\quad  f_{y}\\left(x_{1},y_{1}\\right)$$ \n",
        "\n",
        "também serão conhecidos (basta substituir $x_{1}$ e $y_{2}$). Portanto, substituindo estes valores do segundo passo em (3.4) obteremos $y_{2}.$ Seguindo assim por diante obteremos $y_{3}, y_{4} \\ldots y_{n}.$ \n",
        "\n",
        "\n",
        "#### Agora, vamos implementar o método e aplicar no problema 3.a e 3.b."
      ]
    },
    {
      "cell_type": "code",
      "metadata": {
        "id": "t2kZUJSGN5oy",
        "colab_type": "code",
        "colab": {}
      },
      "source": [
        "# Importando algumas bibliotecas \n",
        "import sympy as sym\n",
        "import numpy as np\n",
        "import pandas as pd\n",
        "import matplotlib.pyplot as plt"
      ],
      "execution_count": null,
      "outputs": []
    },
    {
      "cell_type": "markdown",
      "metadata": {
        "id": "aLVMpNKZNFHF",
        "colab_type": "text"
      },
      "source": [
        " ## Método da série de Taylor até segunda ordem "
      ]
    },
    {
      "cell_type": "code",
      "metadata": {
        "id": "tfb-rWraxG6H",
        "colab_type": "code",
        "colab": {}
      },
      "source": [
        "def Serie_Taylor_2(a,b,h,x0,y0):\n",
        "  n = int((b-a)/h)\n",
        "  # Discretizando o intervalo (a,b)\n",
        "  x = np.linspace(a,b+h, num=int((b-a)/h)+1, endpoint=False)\n",
        "  y = np.zeros(n+1)                              # vetor solução                        \n",
        "  # Condições Iniciais\n",
        "  x[0] = x0\n",
        "  y[0] = y0\n",
        "  for k in range(0,n):\n",
        "    x[k+1] =  x[k] + h\n",
        "    fk  = f(x[k],y[k])\n",
        "    fxk = fx(x[k],y[k])\n",
        "    fyk = fy(x[k],y[k])\n",
        "    y[k+1] = y[k] + h*fk + ((h**2)/2)*(fxk + fyk*fk)\n",
        "  return y\n"
      ],
      "execution_count": null,
      "outputs": []
    },
    {
      "cell_type": "markdown",
      "metadata": {
        "id": "Ychw43UXNTo6",
        "colab_type": "text"
      },
      "source": [
        "**3.a)**  A equação diferencial é dada por \n",
        "\n",
        "> $$y^{'}=\\frac{1}{x^{2}}-\\frac{y}{x}-y^{2}$$ \n",
        " \n",
        "$x>1$ com condição inicial  $y\\left(1\\right)=-1.$ Passos  $h=\\frac{1}{16}$ e $h=\\frac{1}{32}.$ Solução analítica $y\\left(x\\right)=\\frac{1}{x}.$ \n"
      ]
    },
    {
      "cell_type": "code",
      "metadata": {
        "id": "uICwa78wNmmy",
        "colab_type": "code",
        "colab": {
          "base_uri": "https://localhost:8080/",
          "height": 676
        },
        "outputId": "356314c5-e2f7-45c4-e316-2cb4871bfb19"
      },
      "source": [
        "#Com condições iniciais \n",
        "x0 = 1\n",
        "y0 = -1\n",
        "a=1\n",
        "b=2\n",
        "h = 0.1 # 1/16 ou 1/32\n",
        "# Dados iniciais da discretização:\n",
        "def f(x,y):                                 # função y'(x) = f(x,y)\n",
        "  return 1/(x**2) - y/x - y**2\n",
        "#Derivadas parciais\n",
        "def fx(x,y):                                 # em relação a  x\n",
        "  return -2/(x**3) + y/(x**2)\n",
        "def fy(x,y):                                 # em relação a y\n",
        "  return -1/x - 2*y                  \n",
        "#Discretizando o intervalo (a,b)\n",
        "x = np.linspace(a,b+h, num=int((b-a)/h)+1, endpoint=False)\n",
        "### Soluções analítica\n",
        "def f_ana(x):\n",
        "  return -1/x\n",
        "y_ana = []\n",
        "for j in x:\n",
        "    y_ana.append(f_ana(j))\n",
        "#Resolução pelo método da série de Taylor até segunda ordem \n",
        "y_num = Serie_Taylor_2(a,b,h,x0,y0)\n",
        "dic = {'x': x, 'Solução Numérica': y_num, 'Solução Analítica': y_ana}\n",
        "#Criando um DataFrame\n",
        "df = pd.DataFrame(dic)\n",
        "print('Tabela \\n\\n',df)\n",
        "print('\\n Gráficos das Soluções')\n",
        "fig=plt.figure(figsize=[8,6]) #alterar tamanho\n",
        "plt.plot(x,y_num,marker='o', label='Sol. Num h=0.1')\n",
        "plt.plot(x,y_ana, marker='o', label='Sol. Anal h=0.1')\n",
        "plt.title('Sol. Analítica e Sol.Numérica')\n",
        "plt.xticks(x) # mudar escala do eixo X\n",
        "plt.xlabel('x')\n",
        "plt.ylabel('y')\n",
        "plt.legend()\n",
        "plt.show()"
      ],
      "execution_count": null,
      "outputs": [
        {
          "output_type": "stream",
          "text": [
            "Tabela \n",
            "\n",
            "       x  Solução Numérica  Solução Analítica\n",
            "0   1.0         -1.000000          -1.000000\n",
            "1   1.1         -0.910000          -0.909091\n",
            "2   1.2         -0.834951          -0.833333\n",
            "3   1.3         -0.771429          -0.769231\n",
            "4   1.4         -0.716979          -0.714286\n",
            "5   1.5         -0.669796          -0.666667\n",
            "6   1.6         -0.628524          -0.625000\n",
            "7   1.7         -0.592124          -0.588235\n",
            "8   1.8         -0.559788          -0.555556\n",
            "9   1.9         -0.530876          -0.526316\n",
            "10  2.0         -0.504875          -0.500000\n",
            "\n",
            " Gráficos das Soluções\n"
          ],
          "name": "stdout"
        },
        {
          "output_type": "display_data",
          "data": {
            "image/png": "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\n",
            "text/plain": [
              "<Figure size 576x432 with 1 Axes>"
            ]
          },
          "metadata": {
            "tags": [],
            "needs_background": "light"
          }
        }
      ]
    },
    {
      "cell_type": "markdown",
      "metadata": {
        "id": "Ksvcu6D72gSA",
        "colab_type": "text"
      },
      "source": [
        "## Agora veremos o Erro Absoluto Médio (MAE) para alguns passos h"
      ]
    },
    {
      "cell_type": "code",
      "metadata": {
        "id": "z0fyVy_OyqpE",
        "colab_type": "code",
        "colab": {
          "base_uri": "https://localhost:8080/",
          "height": 387
        },
        "outputId": "1eee1b88-2baf-44d1-de8f-4a4e21121e26"
      },
      "source": [
        "lista = [1/4,1/8,1/16,1/32] # Lista de passos\n",
        "erro = []                   # Lista de erros\n",
        "for hi in lista:\n",
        "  n=int((b-a)/hi)\n",
        "  # Discretizando o intervalo (a,b)\n",
        "  x = np.linspace(a,b+hi, num=int((b-a)/hi)+1, endpoint=False)\n",
        "  ### Soluções analítica numérica\n",
        "  y_ana = []\n",
        "  for j in x:\n",
        "    y_ana.append(f_ana(j))\n",
        "  erro.append(sum(abs(y_ana - Serie_Taylor_2(a,b,hi,x0,y0)))/len(y_ana))\n",
        "\n",
        "# Criando um dicionário de posso/erro\n",
        "dist = {'h=1/4':erro[0],'h=1/8':erro[1],'h=1/16':erro[2],'h=1/32':erro[3]}\n",
        "# Armazenando dist em um Data Frame\n",
        "erro_mae = pd.DataFrame(dist,index=['']).astype(float)\n",
        "\n",
        "# Visualizando a Tebela e gráficos dos erros\n",
        "print('Tabela de Erros:\\n\\n',erro_mae,'\\n \\n')\n",
        "erro_mae.plot.bar()\n",
        "plt.title('MAE - Erro Absoluto Médio para cada passo h')\n",
        "plt.xlabel('h')\n",
        "plt.ylabel('Erro')\n",
        "plt.legend()\n",
        "plt.show()"
      ],
      "execution_count": null,
      "outputs": [
        {
          "output_type": "stream",
          "text": [
            "Tabela de Erros:\n",
            "\n",
            "      h=1/4     h=1/8    h=1/16    h=1/32\n",
            "  0.018293  0.004512  0.001115  0.000277 \n",
            " \n",
            "\n"
          ],
          "name": "stdout"
        },
        {
          "output_type": "display_data",
          "data": {
            "image/png": "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\n",
            "text/plain": [
              "<Figure size 432x288 with 1 Axes>"
            ]
          },
          "metadata": {
            "tags": [],
            "needs_background": "light"
          }
        }
      ]
    },
    {
      "cell_type": "markdown",
      "metadata": {
        "id": "X504KuqebGTL",
        "colab_type": "text"
      },
      "source": [
        "Podemos observar que: quanto menor o tamanho do passo $h$ menor o erro; ou seja, a solução numérica aproxima-se da solução analítica à medida que diminuímos o passo. Portanto, o método da **série de Taylor** até a segunda ordem é eficiente.  Com isso podemos utilizá-lo em outras equações diferencias que não possuem soluções analíticas. Faremos isso no problema $3.b$ a seguir.  "
      ]
    },
    {
      "cell_type": "markdown",
      "metadata": {
        "id": "rB9TM9w5M2Zx",
        "colab_type": "text"
      },
      "source": [
        "\n",
        "**b)** A equação diferencial é dada por \n",
        "\n",
        "> $$y^{'}=-xy+\\frac{1}{y^{2}} \\tag{3.b}$$\n",
        "\n",
        "$x>1$ com condição inicial $y\\left(1\\right)=1.$ Passo $h=0.05.$ "
      ]
    },
    {
      "cell_type": "code",
      "metadata": {
        "id": "9PxXI5qGOcGF",
        "colab_type": "code",
        "colab": {
          "base_uri": "https://localhost:8080/",
          "height": 744
        },
        "outputId": "1a77167c-73a4-46d9-c1c7-51a8113ddd2a"
      },
      "source": [
        "#Com condições iniciais \n",
        "x0 = 1\n",
        "y0 = 1\n",
        "a=1\n",
        "b=5\n",
        "h = 0.05\n",
        "# Dados iniciais da discretização:\n",
        "def f(x,y):                                 # função y'(x) = f(x,y)\n",
        "  return -x*y + 1/(y**2) \n",
        "#Derivadas parciais\n",
        "def fx(x,y):                                 # em relação a  x\n",
        "  return -y \n",
        "def fy(x,y):                                 # em relação a y\n",
        "  return -x - 2/(y**3)                  \n",
        "#Discretizando o intervalo (a,b)\n",
        "x = np.linspace(a,b+h, num=int((b-a)/h)+1, endpoint=False)\n",
        "#Resolução pelo método da série de Taylor até segunda ordem \n",
        "y_num = Serie_Taylor_2(a,b,h,x0,y0)\n",
        "dic = {'x': x, 'Solução Numérica': y_num}\n",
        "#Criando um DataFrame\n",
        "df = pd.DataFrame(dic)\n",
        "\n",
        "print('Tabela \\n\\n',df)\n",
        "print('\\nVisualizando \\n\\n')\n",
        "fig=plt.figure(figsize=[8,6])\n",
        "plt.plot(x,y_num,marker='o', label='Sol. Num h=0.05')\n",
        "plt.title('Sol.Numérica')\n",
        "plt.xlabel('x')\n",
        "plt.ylabel('y')\n",
        "plt.legend()\n",
        "plt.show()"
      ],
      "execution_count": null,
      "outputs": [
        {
          "output_type": "stream",
          "text": [
            "Tabela \n",
            "\n",
            "        x  Solução Numérica\n",
            "0   1.00          1.000000\n",
            "1   1.05          0.998750\n",
            "2   1.10          0.995369\n",
            "3   1.15          0.990180\n",
            "4   1.20          0.983481\n",
            "..   ...               ...\n",
            "76  4.80          0.595794\n",
            "77  4.85          0.593676\n",
            "78  4.90          0.591589\n",
            "79  4.95          0.589531\n",
            "80  5.00          0.587502\n",
            "\n",
            "[81 rows x 2 columns]\n",
            "\n",
            "Visualizando \n",
            "\n",
            "\n"
          ],
          "name": "stdout"
        },
        {
          "output_type": "display_data",
          "data": {
            "image/png": "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\n",
            "text/plain": [
              "<Figure size 576x432 with 1 Axes>"
            ]
          },
          "metadata": {
            "tags": [],
            "needs_background": "light"
          }
        }
      ]
    },
    {
      "cell_type": "markdown",
      "metadata": {
        "id": "Oie82JONsUEf",
        "colab_type": "text"
      },
      "source": [
        "\n",
        "**Exercício 4**  `(Livro de Cunha [1] pg: 196, Exer. 7.a.c)`\n",
        "## Usaremos agora os métodos:\n",
        "\n",
        "\n",
        "1.  $ST_2$ - Série de Taylor de 2° ordem\n",
        "2. $Euler$ - Euler\n",
        "3.  $RK_2$ - Ruge-Kutta de 2° ordem\n",
        "4.  $RK_4$ - Ruge-Kutta de 4° ordem\n",
        "\n",
        "## no problema **(3.a).** E, vamos comparar a precisão de cada um. "
      ]
    },
    {
      "cell_type": "markdown",
      "metadata": {
        "id": "ITXRtZAYZb8K",
        "colab_type": "text"
      },
      "source": [
        "Já sabemos como funciona o método da série de Taylor de 2° ordem (visto no problema 3.a e 3.b acima). Agora veremos como  os métodos: Euler e Ruge-Kutta de 2° e 4° ordem.\n"
      ]
    },
    {
      "cell_type": "markdown",
      "metadata": {
        "id": "3mQ5xjyeFEmq",
        "colab_type": "text"
      },
      "source": [
        "Dada a equação diferencial de primeira ordem, com dado inicial \n",
        "\n",
        "$$ \\begin{array}{l}\n",
        "y^{'}\\left(x\\right)=f\\left(x,y\\right),\\\\\n",
        "y\\left(x_{0}\\right)=y_{0}.\\tag{4.0}\n",
        "\\end{array}$$\n",
        "\n",
        "Veremos como funciona cada método. \n",
        "\n",
        "• **Método de Euler** \n",
        "\n",
        "Considerando o problema inicial (4.0), definindo a malha pelo passo $h$ e usando a fórmula de diferenças finitas avançada para discretizar a derivada de $y\\left(x\\right)$ no ponto $x_{k}.$ Obtemos a versão discretizada de (4.0):\n",
        "\n",
        "> $$\\frac{y_{k+1}-y_{k}}{h}=f\\left(x_{k},y_{k}\\right).$$\n",
        "\n",
        "Esta equação permite que calculemos $y_{k+1}$ a partir de $y_{k}.$  Sua aplicação é \n",
        "$$\n",
        "\\begin{array}{l}\n",
        "y_{0}=y\\left(x_{0}\\right),\\\\\n",
        "y_{k+1}=y_{k}+hf\\left(x_{k},y_{k}\\right),\\quad\\text{para}\\,k=0,1,\\ldots\n",
        "\\end{array}\n",
        "$$\n",
        "• **Método de Runge-Kutta de $2°$ ordem** \n",
        "\n",
        "É definido pela expressão \n",
        "\n",
        "> $$\\frac{y_{k+1}-y_{k}}{h}=\\beta_{0}f\\left(x_{k},y_{k}\\right)+\\beta_{1}f\\left(x_{k}+\\gamma h,y_{k}+\\delta h\\right),$$\n",
        "\n",
        "onde  $\\beta_{0}=\\beta_{1}=\\frac{1}{2}$, $\\gamma=1$ e $\\delta=f\\left(x_{k},y_{k}\\right).$ Sua aplicação é\n",
        "\n",
        "\\begin{array}{l}\n",
        "y_{0}=y\\left(x_{0}\\right),\\\\\n",
        "y_{k+1}=y_{k}+\\frac{h}{2}\\left(m_{0}+m_{1}\\right),\\quad\\text{para}\\,k=0,1,\\ldots\n",
        "\\end{array}\n",
        "\n",
        "onde\n",
        "$$\n",
        "\\begin{array}{l}\n",
        "m_{0}=f\\left(x_{k},y_{k}\\right)\\\\\n",
        "m_{1}=f\\left(x_{k}+h,y_{k}+hm_{0}\\right).\n",
        "\\end{array}$$\n",
        "\n",
        "• **Método de Runge-Kutta de ordem 4** \n",
        "\n",
        "É definido pela expressão \n",
        "\n",
        "\\begin{array}{l}\n",
        "\\frac{y_{k+1}-y_{k}}{h}=\\beta_{0}f\\left(x_{k},y_{k}\\right)+\\beta_{1}f\\left(x_{k}+\\gamma_{1}h,y_{k}+\\delta_{1}h\\right)+\\beta_{2}f\\left(x_{k}+\\gamma_{2}h,y_{k}+\\delta_{2}h\\right)\\\\\n",
        "\\qquad\\quad\\:+\\beta_{3}f\\left(x_{k}+\\gamma_{3}h,y_{k}+\\delta_{3}h\\right),\n",
        "\\end{array}\n",
        "\n",
        "onde $\\beta_{0}=\\beta_{3}=\\frac{1}{6},$ $\\beta_{1}=\\beta_{2}=\\frac{1}{3},$ $\\gamma_{1}=\\gamma_{2}=\\frac{1}{2},$ $\\gamma_{3}=1,$ $\\delta_{1}=\\frac{1}{2}f\\left(x_{k},y_{k}\\right),$ $\\delta_{2}=\\frac{1}{2}f\\left(x_{k}+\\gamma_{1}h,y_{k}+\\delta_{1}h\\right)$ e $\\delta_{3}=f\\left(x_{k}+\\gamma_{2}h,y_{k}+\\delta_{2}h\\right).$\n",
        "\n",
        " Sua aplicação é\n",
        "\n",
        "\\begin{array}{l}\n",
        "y_{0}=y\\left(x_{0}\\right),\\\\\n",
        "y_{k+1}=y_{k}+\\frac{h}{6}\\left(m_{0}+2m_{1}+2m_{2}+m_{3}\\right),\\quad\\text{para}\\,k=0,1,\\ldots\n",
        "\\end{array}\n",
        "\n",
        "onde \n",
        "$$\n",
        "\\begin{array}{l}\n",
        "m_{0}=f\\left(x_{k},y_{k}\\right),\\\\\n",
        "m_{1}=f\\left(x_{k}+\\frac{h}{2},y_{k}+\\frac{h}{2}m_{0}\\right),\\\\\n",
        "m_{2}=f\\left(x_{k}+\\frac{h}{2},y_{k}+\\frac{h}{2}m_{1}\\right),\\\\\n",
        "m_{3}=f\\left(x_{k}+h,y_{k}+hm_{3}\\right).\n",
        "\\end{array}$$\n",
        "\n",
        "Sabe-se que os quatro métodos apresentados são bastantes aplicáveis aos problemas de valor inicial. Contudo os de Runge-Kutta são mais vantajosos no sentido de simplicidade, alta precisão e versatilidade nas aplicações. \n",
        "\n",
        "### Agora, vamos implementar esses métodos. "
      ]
    },
    {
      "cell_type": "code",
      "metadata": {
        "id": "1o3TMjqtyqP8",
        "colab_type": "code",
        "colab": {}
      },
      "source": [
        "#Método Séire de Taylor de  2°ordem\n",
        "def ST_2(a,b,h,x0,y0):\n",
        "  n = int((b-a)/h)\n",
        "  # Discretizando o intervalo (a,b)\n",
        "  x = np.linspace(a,b+h, num=int((b-a)/h)+1, endpoint=False)\n",
        "  y = np.zeros(n+1)                              # vetor solução                        \n",
        "  # Condições Iniciais\n",
        "  x[0] = x0\n",
        "  y[0] = y0\n",
        "  for k in range(0,n):\n",
        "    x[k+1] =  x[k] + h\n",
        "    fk  = f(x[k],y[k])\n",
        "    fxk = fx(x[k],y[k])\n",
        "    fyk = fy(x[k],y[k])\n",
        "    y[k+1] = y[k] + h*fk + ((h**2)/2)*(fxk + fyk*fk)\n",
        "  return y\n",
        "\n",
        "#Método de Euler\n",
        "def Euler(a,b,h,x0,y0):\n",
        "  n = int((b-a)/h)\n",
        "  # Discretizando o intervalo (a,b)\n",
        "  x = np.linspace(a,b+h, num=int((b-a)/h)+1, endpoint=False)\n",
        "  y = np.zeros(n+1)                              # vetor solução                        \n",
        "  # Condições Iniciais\n",
        "  x[0] = x0\n",
        "  y[0] = y0\n",
        "  #Euler\n",
        "  for k in range(0,n):\n",
        "    x[k+1] =  x[k] + h\n",
        "    y[k+1]= y[k]+h*f(x[k],y[k])\n",
        "  return y\n",
        "\n",
        "#Método de Ruge-Kutta de 2°ordem\n",
        "def RK_2(a,b,h,x0,y0):\n",
        "  n = int((b-a)/h)\n",
        "  # Discretizando o intervalo (a,b)\n",
        "  x = np.linspace(a,b+h, num=int((b-a)/h)+1, endpoint=False)\n",
        "  y = np.zeros(n+1)                              # vetor solução                        \n",
        "  # Condições Iniciais\n",
        "  x[0] = x0\n",
        "  y[0] = y0\n",
        "  #RK de 2ª Ordem\n",
        "  for k in range(0,n):\n",
        "    x[k+1] =  x[k] + h\n",
        "    m0 = f(x[k],y[k])\n",
        "    m1 = f(x[k+1],y[k]+h*m0)\n",
        "    y[k+1]= y[k]+h*(m0+m1)/2\n",
        "  return y\n",
        "\n",
        "#Método Ruge-Kutta 4° ordem\n",
        "def RK_4(a,b,h,x0,y0):\n",
        "  n = int((b-a)/h)\n",
        "  # Discretizando o intervalo (a,b)\n",
        "  x = np.linspace(a,b+h, num=int((b-a)/h)+1, endpoint=False)\n",
        "  y = np.zeros(n+1)                              # vetor solução                        \n",
        "  # Condições Iniciais\n",
        "  x[0] = x0\n",
        "  y[0] = y0\n",
        "  #RK de 4ª Ordem\n",
        "  for k in range(0,n):\n",
        "    x[k+1] =  x[k] + h\n",
        "    m0 = h*f(x[k],y[k])\n",
        "    m1 = h*f(x[k]+h/2,y[k]+m0/2)\n",
        "    m2 = h*f(x[k]+h/2,y[k]+m1/2)\n",
        "    m3 = h*f(x[k+1],y[k]+m2)\n",
        "    y[k+1] = y[k]+ (1/6)*(m0 + 2*m1 + 2*m2 + m3)\n",
        "  return y\n",
        "\n"
      ],
      "execution_count": null,
      "outputs": []
    },
    {
      "cell_type": "markdown",
      "metadata": {
        "id": "vjqHBCr088VG",
        "colab_type": "text"
      },
      "source": [
        "### Problema:\n",
        "**3.a)**  A equação diferencial é dada por \n",
        "\n",
        "> $$y^{'}=\\frac{1}{x^{2}}-\\frac{y}{x}-y^{2}$$ \n",
        " \n",
        "$x>1$ com condição inicial  $y\\left(1\\right)=-1.$ Passo $h=0.1.$  Solução analítica $y\\left(x\\right)=\\frac{1}{x}.$ \n"
      ]
    },
    {
      "cell_type": "code",
      "metadata": {
        "id": "PPBTTJxmKpOU",
        "colab_type": "code",
        "colab": {}
      },
      "source": [
        "# Importando algumas bibliotecas \n",
        "import sympy as sym\n",
        "import numpy as np\n",
        "import pandas as pd\n",
        "import matplotlib.pyplot as plt"
      ],
      "execution_count": null,
      "outputs": []
    },
    {
      "cell_type": "code",
      "metadata": {
        "id": "auUtNzTc5mGy",
        "colab_type": "code",
        "colab": {
          "base_uri": "https://localhost:8080/",
          "height": 727
        },
        "outputId": "5d461a4f-0425-447a-8f8d-882d5b722222"
      },
      "source": [
        "#Com condições iniciais \n",
        "x0 = 1\n",
        "y0 = -1\n",
        "a=1\n",
        "b=2\n",
        "h = 0.1 # 0.05 \n",
        "# Dados iniciais da discretização:\n",
        "def f(x,y):                                 # função y'(x) = f(x,y)\n",
        "  return 1/(x**2) - y/x - y**2\n",
        "#Derivadas parciais\n",
        "def fx(x,y):                                 # em relação a  x\n",
        "  return -2/(x**3) + y/(x**2)\n",
        "def fy(x,y):                                 # em relação a y\n",
        "  return -1/x - 2*y                  \n",
        "#Discretizando o intervalo (a,b)\n",
        "x = np.linspace(a,b+h, num=int((b-a)/h)+1, endpoint=False)\n",
        "### Soluções analítica\n",
        "def f_ana(x):\n",
        "  return -1/x\n",
        "y_ana = []\n",
        "for j in x:\n",
        "    y_ana.append(f_ana(j)) \n",
        "#Resolução pelo os métodos   \n",
        "y_ST_2 = ST_2(a,b,h,x0,y0)\n",
        "y_Euler = Euler(a,b,h,x0,y0)\n",
        "y_RK_2 = RK_2(a,b,h,x0,y0)\n",
        "y_RK_4 = RK_4(a,b,h,x0,y0)\n",
        "\n",
        "dic = {'x': x, 'Sol. Analítica': y_ana,'Sol. S. de Taylor': y_ST_2,'Sol. Euler': y_Euler,'Sol. RK ordem 2': y_RK_2,'Sol. RK ordem 4': y_RK_4}\n",
        "#Criando um DataFrame\n",
        "df = pd.DataFrame(dic)\n",
        "\n",
        "print('Tabela \\n\\n',df.head(10))\n",
        "print('\\nVisualizando \\n\\n')\n",
        "fig=plt.figure(figsize=[8,6])\n",
        "plt.plot(x,y_ana, label='Sol. y_ana h=0.1')\n",
        "plt.plot(x,y_Euler, label='Sol. y_Euler h=0.1')\n",
        "plt.plot(x,y_ST_2, label='Sol. y_ST_2 h=0.1')\n",
        "plt.plot(x,y_RK_2, label='Sol. y_RK_2 h=0.1')\n",
        "plt.plot(x,y_RK_4, label='Sol. y_RK_4 h=0.1')\n",
        "\n",
        "plt.title('Sol.Numéricas e Sol.Analítica')\n",
        "plt.xlabel('x')\n",
        "plt.ylabel('y')\n",
        "plt.legend()\n",
        "plt.show()\n"
      ],
      "execution_count": null,
      "outputs": [
        {
          "output_type": "stream",
          "text": [
            "Tabela \n",
            "\n",
            "      x  Sol. Analítica  ...  Sol. RK ordem 2  Sol. RK ordem 4\n",
            "0  1.0       -1.000000  ...        -1.000000        -1.000000\n",
            "1  1.1       -0.909091  ...        -0.908269        -0.909090\n",
            "2  1.2       -0.833333  ...        -0.831865        -0.833332\n",
            "3  1.3       -0.769231  ...        -0.767232        -0.769229\n",
            "4  1.4       -0.714286  ...        -0.711834        -0.714283\n",
            "5  1.5       -0.666667  ...        -0.663815        -0.666664\n",
            "6  1.6       -0.625000  ...        -0.621787        -0.624997\n",
            "7  1.7       -0.588235  ...        -0.584688        -0.588232\n",
            "8  1.8       -0.555556  ...        -0.551695        -0.555552\n",
            "9  1.9       -0.526316  ...        -0.522158        -0.526312\n",
            "\n",
            "[10 rows x 6 columns]\n",
            "\n",
            "Visualizando \n",
            "\n",
            "\n"
          ],
          "name": "stdout"
        },
        {
          "output_type": "display_data",
          "data": {
            "image/png": "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\n",
            "text/plain": [
              "<Figure size 576x432 with 1 Axes>"
            ]
          },
          "metadata": {
            "tags": [],
            "needs_background": "light"
          }
        }
      ]
    },
    {
      "cell_type": "code",
      "metadata": {
        "id": "v5e_toCU5mZr",
        "colab_type": "code",
        "colab": {
          "base_uri": "https://localhost:8080/",
          "height": 370
        },
        "outputId": "eb5f75a2-e6e5-4f03-c958-a3dd512a8dc5"
      },
      "source": [
        "erro = []                   # Lista de erros\n",
        "erro.append(sum(abs(y_ana - y_Euler))/len(y_ana))\n",
        "erro.append(sum(abs(y_ana - y_ST_2))/len(y_ana))\n",
        "erro.append(sum(abs(y_ana - y_RK_2))/len(y_ana))\n",
        "erro.append(sum(abs(y_ana - y_RK_4))/len(y_ana))\n",
        "\n",
        "# Criando um dicionário de método/erro\n",
        "dist = {'Euler':erro[0],'ST 2° ordem':erro[1],'RK 2° ordem': erro[2],'RK 4° ordem':erro[3]}\n",
        "# Armazenando dist em um Data Frame\n",
        "erro_mae = pd.DataFrame(dist,index=['']).astype(float)\n",
        "\n",
        "# Visualizando a Tebela e gráficos dos erros\n",
        "print('Tabela de MAE:\\n\\n',erro_mae,'\\n \\n')\n",
        "erro_mae.plot.bar()\n",
        "plt.title('MAE - Erro Absoluto Médio de cada método no passo h=0.1')\n",
        "plt.xlabel('')\n",
        "plt.ylabel('MAE')\n",
        "plt.yscale('log') \n",
        "plt.legend()\n",
        "plt.show()"
      ],
      "execution_count": null,
      "outputs": [
        {
          "output_type": "stream",
          "text": [
            "Tabela de MAE:\n",
            "\n",
            "      Euler  ST 2° ordem  RK 2° ordem  RK 4° ordem\n",
            "  0.032447     0.002875      0.00262     0.000002 \n",
            " \n",
            "\n"
          ],
          "name": "stdout"
        },
        {
          "output_type": "display_data",
          "data": {
            "image/png": "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\n",
            "text/plain": [
              "<Figure size 432x288 with 1 Axes>"
            ]
          },
          "metadata": {
            "tags": [],
            "needs_background": "light"
          }
        }
      ]
    },
    {
      "cell_type": "markdown",
      "metadata": {
        "id": "T9kV3b5zMK2p",
        "colab_type": "text"
      },
      "source": [
        "Podemos concluir que claramente o método de Runge-Kutta de 4º ordem é mais preciso que os outros métodos, corroborando assim com a teoria. "
      ]
    },
    {
      "cell_type": "markdown",
      "metadata": {
        "id": "4HbEdd7JdBiW",
        "colab_type": "text"
      },
      "source": [
        "**Exercício 5**  Resolva o problema de valor inicial\n",
        "\n",
        "$$\\left\\{ \\begin{array}{l}\n",
        "y^{''}=y^{2}-x^{2},\\\\\n",
        "y\\left(0\\right)=0,\\,y'\\left(0\\right)=1.\n",
        "\\end{array}\\right.x\\in\\left(0,1\\right). \\tag{5.0}$$\n",
        "\n",
        "Usando os Métodos:\n",
        "1. Runge-Kutta de 4º  ordem\n",
        "2. Adams-Bachforth\n",
        "3. Milne\n",
        "\n"
      ]
    },
    {
      "cell_type": "markdown",
      "metadata": {
        "id": "5nm1k5Pqgamb",
        "colab_type": "text"
      },
      "source": [
        "**Solução.** Para implementar esses métodos, primeiro transformaremos a Equação Diferencial de Segunda Ordem em um sistema de Equações de Primeira Ordem. Isto é, fazendo a substituição $y'=z\\Rightarrow y''=z'.$ Assim, temos que \n",
        "\n",
        "$$\\left\\{ \\begin{array}{l}\n",
        "y'=z,\\qquad y\\left(0\\right)=0,\\\\\n",
        "z'=y^{2}-x^{2},z\\left(0\\right)=1.\n",
        "\\end{array}\\right.x\\in\\left(0,1\\right)$$\n",
        "\n",
        "Segue que \n",
        "\n",
        "$$\\left\\{ \\begin{array}{l}\n",
        "f\\left(x_{i},z_{i}\\right)=z_{i},\\,y_{0}=0,\\\\\n",
        "g\\left(x_{i},y_{i}\\right)=y_{i}^{2}-x_{i}^{2},\\,z_{0}=1.\n",
        "\\end{array}\\right.i=0,1,\\ldots,n-1$$\n",
        "\n",
        "Pelo **método de Runge-Kutta de ordem 4:** temos \n",
        "\n",
        "$$\\left\\{ \\begin{array}{l}\n",
        "y_{i+1}=y_{i}+\\frac{h}{6}\\left(m_{0}+2\\left(m_{1}+m_{2}\\right)+m_{3}\\right),\\\\\n",
        "z_{i+1}=z_{i}+\\frac{h}{6}\\left(k_{0}+2\\left(k_{1}+k_{2}\\right)+k_{3}\\right),\n",
        "\\end{array}\\right.$$\n",
        "\n",
        "sendo\n",
        "\n",
        "$$\n",
        "\\begin{array}{l}\n",
        "m_{0}=f\\left(x_{i},z_{i}\\right),\\\\\n",
        "m_{1}=f\\left(x_{i}+\\frac{h}{2},z_{i}+\\frac{h}{2}m_{0}\\right),\\\\\n",
        "m_{2}=f\\left(x_{i}+\\frac{h}{2},z_{i}+\\frac{h}{2}m_{1}\\right),\\\\\n",
        "m_{3}=f\\left(x_{i}+h,z_{i}+hm_{3}\\right),\\\\\n",
        "k_{0}=g\\left(x_{i},y_{i}\\right),\\\\\n",
        "k_{1}=g\\left(x_{i}+\\frac{h}{2},y_{i}+\\frac{h}{2}k_{0}\\right),\\\\\n",
        "k_{2}=g\\left(x_{i}+\\frac{h}{2},y_{i}+\\frac{h}{2}k_{1}\\right),\\\\\n",
        "k_{3}=g\\left(x_{i}+h,y_{i}+hk_{3}\\right).\n",
        "\\end{array}\n",
        "$$\n",
        "\n",
        "O **método de Adams-Bachforth**, primeiro calculamos $y_{1}, y_{2},$ e $y_{3}$ por Runge-Kutta de 4° ordem. Depois, para calcular de $y_{4}$ em diante, usaremos\n",
        "\n",
        "$$ \\left\\{ \\begin{array}{l}\n",
        "y_{i+1}=y_{i}+\\frac{h}{24}\\left(55m_{3}-59m_{2}+37m_{1}-9m_{0}\\right),\\\\\n",
        "z_{i+1}=z_{i}+\\frac{h}{24}\\left(55k_{3}-59k_{2}+37k_{1}-9k_{0}\\right),\n",
        "\\end{array}\\right.i\\geq4 $$\n",
        "\n",
        "sendo que\n",
        "$$\n",
        "\\begin{array}{l}\n",
        "m_{0}=f\\left(x_{i-3},z_{i-3}\\right)\\\\\n",
        "m_{1}=f\\left(x_{i-2},z_{i-2}\\right)\\\\\n",
        "m_{2}=f\\left(x_{i-1},z_{i-1}\\right)\\\\\n",
        "m_{3}=f\\left(x_{i},z_{i}\\right)\\\\\n",
        "k_{0}=g\\left(x_{i-3},y_{i-3}\\right)\\\\\n",
        "k_{1}=g\\left(x_{i-2},y_{i-2}\\right)\\\\\n",
        "k_{2}=g\\left(x_{i-1},y_{i-1}\\right)\\\\\n",
        "k_{3}=g\\left(x_{i},y_{i}\\right)\n",
        "\\end{array}\n",
        "$$\n",
        "\n",
        "Para o **método de Milne**, da mesma forma que iniciamos o Método de Adams-Bachforth, calculamos $y_{1}, y_{2},$ e $y_{3}$ por Runge-Kutta de 4° ordem. A partir daí, calcularemos $y_{4}$ por diante usando \n",
        "\n",
        "$$ \\left\\{ \\begin{array}{l}\n",
        "y_{i+1}=y_{i-3}+\\frac{4h}{3}\\left(2m_{2}-m_{1}+2m_{0}\\right),\\\\\n",
        "z_{i+1}=z_{i-3}+\\frac{4h}{3}\\left(2k_{2}-k_{1}+2k_{0}\\right),\n",
        "\\end{array}\\right.i\\geq4 $$\n",
        "\n",
        "sendo\n",
        "\n",
        "$$\\begin{array}{l}\n",
        "m_{0}=f\\left(x_{i-2},z_{i-2}\\right)\\\\\n",
        "m_{1}=f\\left(x_{i-1},z_{i-1}\\right)\\\\\n",
        "m_{2}=f\\left(x_{i},z_{i}\\right)\\\\\n",
        "k_{0}=g\\left(x_{i-2},y_{i-2}\\right)\\\\\n",
        "k_{1}=g\\left(x_{i-1},y_{i-1}\\right)\\\\\n",
        "k_{2}=g\\left(x_{i},y_{i}\\right)\n",
        "\\end{array}\n",
        "$$\n",
        "### Agora, vamos implementar esses métodos.\n",
        " Note que a solução analítica para problema é $y\\left(x\\right)=x.$  "
      ]
    },
    {
      "cell_type": "code",
      "metadata": {
        "id": "0JPF44ZvYAra",
        "colab_type": "code",
        "colab": {}
      },
      "source": [
        "import pandas as pd\n",
        "import numpy as np\n",
        "import matplotlib.pyplot as plt"
      ],
      "execution_count": null,
      "outputs": []
    },
    {
      "cell_type": "code",
      "metadata": {
        "id": "Cf9YgZgiMbyz",
        "colab_type": "code",
        "colab": {}
      },
      "source": [
        "#Ruge-Kutta de  4° ordem, Adams-Bachforth e Milne.\n",
        "\n",
        "#Dados iniciais da discretização:\n",
        "x0 =0 \n",
        "y0 =0\n",
        "z0=1\n",
        "a=0\n",
        "b=1\n",
        "h =0.1\n",
        "n = int((b-a)/h)\n",
        "\n",
        "def fa(x):\n",
        "    return x                               #Solução Analítica \n",
        "def fy(x,z):                               #Equação1: EDO de primeira ordem\n",
        "    return z\n",
        "def fz(x,y):                               #Equação2: EDO de primeira ordem\n",
        "    return y**2 - x**2\n",
        "# Criando vetores que serão armazenados os valores\n",
        "\n",
        "y4  = np.zeros(n+1)                         #Runge-Kutta\n",
        "z4  = np.zeros(n+1)                         #Runge-Kutta\n",
        "yAB = np.zeros(n+1)                         #Adams\n",
        "yABz= np.zeros(n+1)                         #Adams\n",
        "yM  = np.zeros(n+1)                         #Milne\n",
        "yMz = np.zeros(n+1)                         #Milne\n",
        "x   = np.zeros(n+1)                         # x\n",
        "ya  = np.zeros(n+1)                         # sol. analítica\n",
        "#Condições Iniciais\n",
        "x[0]   = x0\n",
        "ya[0]  = y0\n",
        "#Runge-Kutta\n",
        "y4[0]  = y0\n",
        "z4[0]  =z0                       \n",
        "#Adams\n",
        "yAB[0] = y0\n",
        "yABz[0]=z0                      \n",
        "#Milne \n",
        "yM[0]  = y0\n",
        "yMz[0] =z0                                  \n",
        "\n",
        "#Métodos\n",
        "for k in range(0,n):\n",
        "    x[k+1]= x[k]+h\n",
        "    ya[k+1]=fa(x[k+1])\n",
        "    fyk = fy(x[k],z4[k])\n",
        "    fzk = fz(x[k],y4[k])\n",
        "    # RK de 4ª Ordem para y4\n",
        "    m0 = h*fyk\n",
        "    m1 = h*fy(x[k]+h/2,z4[k]+m0/2)\n",
        "    m2 = h*fy(x[k]+h/2,z4[k]+m1/2)\n",
        "    m3 = h*fy(x[k+1],z4[k]+m2)\n",
        "    y4[k+1] = y4[k] + (m0+2*m1+2*m2+m3)/6\n",
        "    #RK de 4ª Ordem para z4\n",
        "    m0 = h*fzk\n",
        "    m1 = h*fz(x[k]+h/2,y4[k]+m0/2)\n",
        "    m2 = h*fz(x[k]+h/2,y4[k]+m1/2)\n",
        "    m3 = h*fz(x[k+1],y4[k]+m2)\n",
        "    z4[k+1] = z4[k] + (m0+2*m1+2*m2+m3)/6\n",
        "    #Adams.B de 4ª Ordem\n",
        "    if k<=3:\n",
        "        yAB[k+1]  = y4[k+1]\n",
        "        yABz[k+1] = z4[k+1]\n",
        "    else:\n",
        "        m0= fy(x[k-3],yABz[k-3])\n",
        "        m1= fy(x[k-2],yABz[k-2])\n",
        "        m2= fy(x[k-1],yABz[k-1])\n",
        "        m3= fy(x[k],yABz[k])\n",
        "        yAB[k+1] = yAB[k] + h*(55*m3-59*m2+37*m1-9*m0)/24\n",
        "        m0= fz(x[k-3],yAB[k-3])\n",
        "        m1= fz(x[k-2],yAB[k-2])\n",
        "        m2= fz(x[k-1],yAB[k-1])\n",
        "        m3= fz(x[k],yAB[k])\n",
        "        yABz[k+1] = yABz[k]+h*(55*m3-59*m2+37*m1-9*m0)/24       \n",
        "    #Milne de 4ª Ordem\n",
        "    if k<=3:\n",
        "        yM[k+1]=y4[k+1]\n",
        "        yMz[k+1]=z4[k+1]\n",
        "    else:\n",
        "        m0= fy(x[k-2],yMz[k-2])\n",
        "        m1= fy(x[k-1],yMz[k-1])\n",
        "        m2= fy(x[k],yMz[k])\n",
        "        yM[k+1]=yM[k-3]+4*h*(2*m2-m1+2*m0)/3\n",
        "        #\n",
        "        m0= fz(x[k-2],yM[k-2])\n",
        "        m1= fz(x[k-1],yM[k-1])\n",
        "        m2= fz(x[k],yM[k])\n",
        "        yMz[k+1] = yMz[k-3]+4*h*(2*m2-m1+2*m0)/3\n",
        "        \n",
        "dic = {'x': x, 'Sol. RK de 4° ord.': y4, 'Sol. Adams. B': yAB, 'Sol. Milne': yM, 'Sol. Analítica': ya}\n",
        "df = pd.DataFrame(dic)"
      ],
      "execution_count": null,
      "outputs": []
    },
    {
      "cell_type": "code",
      "metadata": {
        "id": "JpRUpiIlCGXG",
        "colab_type": "code",
        "colab": {
          "base_uri": "https://localhost:8080/",
          "height": 1000
        },
        "outputId": "c563d242-1104-49d1-e178-d9fe7cd07fc1"
      },
      "source": [
        "print('Tabela com Soluções: \\n\\n',df)\n",
        "print('\\nVisualizando \\n\\n')\n",
        "fig=plt.figure(figsize=[8,6])\n",
        "plt.plot(x,ya, label='Sol. y_ana ')\n",
        "plt.plot(x,yM, label='Sol. yM ')\n",
        "plt.plot(x,yAB, label='Sol. yAB ')\n",
        "plt.plot(x,y4, label='Sol. RK 4° ord. ')\n",
        "\n",
        "plt.title('Sol.Numéricas e Sol.Analítica')\n",
        "plt.xlabel('x')\n",
        "plt.ylabel('y')\n",
        "plt.legend()\n",
        "plt.show()\n",
        "\n",
        "# Calculando erro\n",
        "erro = []                   # Lista de erros\n",
        "erro.append(sum(abs(ya-y4))/len(ya))\n",
        "erro.append(sum(abs(ya-yAB))/len(ya))\n",
        "erro.append(sum(abs(ya-yM))/len(ya))\n",
        "\n",
        "# Criando um dicionário de método/erro\n",
        "dist = {'RK 4° ord.':erro[0],'Adams.B': erro[1],'Milne':erro[2]}\n",
        "# Armazenando dist em um Data Frame\n",
        "erro_mae = pd.DataFrame(dist,index=['']).astype(float)\n",
        "\n",
        "# Visualizando a Tebela e gráficos dos erros\n",
        "print('Tabela de MAE:\\n\\n',erro_mae,'\\n \\n')\n",
        "erro_mae.plot.bar()\n",
        "plt.title('MAE - Erro Absoluto Médio de cada método no passo h=0.1')\n",
        "plt.xlabel('')\n",
        "plt.ylabel('MAE') \n",
        "plt.legend()\n",
        "plt.show()"
      ],
      "execution_count": null,
      "outputs": [
        {
          "output_type": "stream",
          "text": [
            "Tabela com Soluções: \n",
            "\n",
            "       x  Sol. RK de 4° ord.  Sol. Adams. B  Sol. Milne  Sol. Analítica\n",
            "0   0.0            0.000000       0.000000    0.000000             0.0\n",
            "1   0.1            0.105171       0.105171    0.105171             0.1\n",
            "2   0.2            0.210307       0.210307    0.210307             0.2\n",
            "3   0.3            0.315313       0.315313    0.315313             0.3\n",
            "4   0.4            0.420115       0.420115    0.420115             0.4\n",
            "5   0.5            0.524662       0.519387    0.503638             0.5\n",
            "6   0.6            0.628922       0.619481    0.611214             0.6\n",
            "7   0.7            0.732881       0.719167    0.713131             0.7\n",
            "8   0.8            0.836544       0.819466    0.822278             0.8\n",
            "9   0.9            0.939930       0.919924    0.902539             0.9\n",
            "10  1.0            1.043075       1.020843    1.016458             1.0\n",
            "\n",
            "Visualizando \n",
            "\n",
            "\n"
          ],
          "name": "stdout"
        },
        {
          "output_type": "display_data",
          "data": {
            "image/png": "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\n",
            "text/plain": [
              "<Figure size 576x432 with 1 Axes>"
            ]
          },
          "metadata": {
            "tags": [],
            "needs_background": "light"
          }
        },
        {
          "output_type": "stream",
          "text": [
            "Tabela de MAE:\n",
            "\n",
            "   RK 4° ord.   Adams.B     Milne\n",
            "    0.023356  0.015379  0.010924 \n",
            " \n",
            "\n"
          ],
          "name": "stdout"
        },
        {
          "output_type": "display_data",
          "data": {
            "image/png": "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\n",
            "text/plain": [
              "<Figure size 432x288 with 1 Axes>"
            ]
          },
          "metadata": {
            "tags": [],
            "needs_background": "light"
          }
        }
      ]
    },
    {
      "cell_type": "markdown",
      "metadata": {
        "id": "3oOg8mZ7o0gG",
        "colab_type": "text"
      },
      "source": [
        "Podemos concluir que o Método de Milne tem melhor precisão que os demais."
      ]
    },
    {
      "cell_type": "markdown",
      "metadata": {
        "id": "WAOb-Cd6smip",
        "colab_type": "text"
      },
      "source": [
        "# Bibliografia\n",
        "\n",
        "[1] CUNHA, M.Cristina.C. Métodos numéricos. 2.ed. rev. e ampliada 2000 - Campinas, SP: Editora da Unicamp, 2000."
      ]
    }
  ]
}
